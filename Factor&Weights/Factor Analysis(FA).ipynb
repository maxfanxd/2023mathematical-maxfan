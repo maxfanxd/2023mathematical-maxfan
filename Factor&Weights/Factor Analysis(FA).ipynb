{
 "cells": [
  {
   "cell_type": "markdown",
   "id": "080f4783",
   "metadata": {},
   "source": [
    "https://www.youtube.com/watch?v=jRjeC9Bre8M\n",
    "\n",
    "https://www.youtube.com/watch?v=9PL_NOJWKZs"
   ]
  }
 ],
 "metadata": {
  "kernelspec": {
   "display_name": "Python 3 (ipykernel)",
   "language": "python",
   "name": "python3"
  },
  "language_info": {
   "codemirror_mode": {
    "name": "ipython",
    "version": 3
   },
   "file_extension": ".py",
   "mimetype": "text/x-python",
   "name": "python",
   "nbconvert_exporter": "python",
   "pygments_lexer": "ipython3",
   "version": "3.11.3"
  }
 },
 "nbformat": 4,
 "nbformat_minor": 5
}
