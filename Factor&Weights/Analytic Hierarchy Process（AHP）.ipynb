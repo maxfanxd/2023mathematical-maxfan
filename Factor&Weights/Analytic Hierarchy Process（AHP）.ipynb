{
 "cells": [
  {
   "cell_type": "markdown",
   "id": "69845a7a",
   "metadata": {},
   "source": [
    "# AHP-层次分析法\n",
    "这个评价方法比较主观（偏好值是自己赋的）。在数据集比较小，实在不好比较的时候可以用这个方法，如果有别的选择还是尽量不要用这个算法比较好\n",
    "\n",
    "参考：https://blog.csdn.net/qq_25990967/article/details/122820595"
   ]
  },
  {
   "cell_type": "code",
   "execution_count": 2,
   "id": "7d337def",
   "metadata": {},
   "outputs": [
    {
     "name": "stdout",
     "output_type": "stream",
     "text": [
      ".\\datasets\\PcaData.csv\n",
      "--------------------------------------------------\n"
     ]
    }
   ],
   "source": [
    "import os\n",
    "for dirname, _, filenames in os.walk('.\\datasets'):\n",
    "    for filename in filenames:\n",
    "        print(os.path.join(dirname, filename))\n",
    "# 任何在这个工程文件夹的datasets子文件夹中的文件将被输出\n",
    "\n",
    "print('-'*50)\n",
    "\n",
    "#忽略警告\n",
    "import warnings\n",
    "warnings.filterwarnings('ignore')"
   ]
  },
  {
   "cell_type": "code",
   "execution_count": 4,
   "id": "7f8c3c35",
   "metadata": {},
   "outputs": [
    {
     "name": "stdout",
     "output_type": "stream",
     "text": [
      "特征值：\n",
      "[ 4.03413707e+00+0.j        -1.70685331e-02+0.3707051j\n",
      " -1.70685331e-02-0.3707051j  8.19068844e-18+0.j       ]\n",
      "特征向量：\n",
      "[[-3.40590354e-01+0.j         -3.03369854e-01+0.31051952j\n",
      "  -3.03369854e-01-0.31051952j  1.73785334e-01+0.j        ]\n",
      " [-1.45447924e-01+0.j         -7.87517900e-02-0.16863676j\n",
      "  -7.87517900e-02+0.16863676j -6.41408474e-18+0.j        ]\n",
      " [-3.04536070e-01+0.j          1.40815220e-01+0.07762988j\n",
      "   1.40815220e-01-0.07762988j -4.63427557e-01+0.j        ]\n",
      " [-8.77553926e-01+0.j          8.66630736e-01+0.j\n",
      "   8.66630736e-01-0.j          8.68926670e-01+0.j        ]]\n",
      "通过一致性检验\n",
      "\n",
      "object_score 0： 7.547684625992974\n",
      "object_score 1： 7.269753832009365\n"
     ]
    }
   ],
   "source": [
    "### CSDN代码\n",
    "\n",
    "#导入相关库\n",
    "import numpy as np\n",
    "import pandas as pd\n",
    "p = np.mat('8 7 6 8;7 8 8 7') #每一行代表一个对象的指标评分\n",
    "#A为自己构造的输入判别矩阵\n",
    "A = np.array([[1,3,1,1/3],[1/3,1,1/2,1/5],[1,2,1,1/3],[3,5,3,1]])\n",
    "#查看行数和列数\n",
    "[m,n] = A.shape\n",
    " \n",
    "#求特征值和特征向量\n",
    "V,D = np.linalg.eig(A)\n",
    "print('特征值：')\n",
    "print(V)\n",
    "print('特征向量：')\n",
    "print(D)\n",
    "#最大特征值\n",
    "tzz = np.max(V)\n",
    "# print(tzz)\n",
    "#最大特征向量\n",
    "k=[i for i in range(len(V)) if V[i] == np.max(V)]\n",
    "tzx = -D[:,k]\n",
    "# print(tzx)\n",
    " \n",
    "# #赋权重\n",
    "quan=np.zeros((n,1))\n",
    "for i in range(0,n):\n",
    "    quan[i]=tzx[i]/np.sum(tzx)\n",
    "Q=quan\n",
    "# print(Q)\n",
    " \n",
    "#一致性检验\n",
    "CI=(tzz-n)/(n-1)\n",
    "RI=[0,0,0.58,0.9,1.12,1.24,1.32,1.41,1.45,1.49,1.52,1.54,1.56,1.58,1.59]\n",
    "#判断是否通过一致性检验\n",
    "CR=CI/RI[n-1]\n",
    "if CR>=0.1:\n",
    "    print('没有通过一致性检验\\n')\n",
    "else:\n",
    "    print('通过一致性检验\\n')\n",
    " \n",
    "#显示出所有评分对象的评分值\n",
    "score=p*Q\n",
    "for i in range(len(score)):\n",
    "    print('object_score {}：'.format(i),float(score[i]))"
   ]
  },
  {
   "cell_type": "markdown",
   "id": "474c4053",
   "metadata": {},
   "source": [
    "> 美赛时我复现的2016C 50193（好像是这个）好像就用了AHP，当然指标选取的还是非常主观的，令人一言难尽啊\n",
    "\n",
    "如果实在需要用AHP的话，就结合上面的代码或者我的复现代码或者书中的代码就OK了"
   ]
  }
 ],
 "metadata": {
  "kernelspec": {
   "display_name": "Python 3 (ipykernel)",
   "language": "python",
   "name": "python3"
  },
  "language_info": {
   "codemirror_mode": {
    "name": "ipython",
    "version": 3
   },
   "file_extension": ".py",
   "mimetype": "text/x-python",
   "name": "python",
   "nbconvert_exporter": "python",
   "pygments_lexer": "ipython3",
   "version": "3.11.3"
  }
 },
 "nbformat": 4,
 "nbformat_minor": 5
}
