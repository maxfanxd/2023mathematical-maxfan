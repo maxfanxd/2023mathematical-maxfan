{
 "cells": [
  {
   "cell_type": "markdown",
   "id": "88d13b42",
   "metadata": {},
   "source": [
    "# 聚类的补充\n",
    "主要基于sklearn的官方文档，链接：https://scikit-learn.org/stable/modules/clustering.html#clustering\n",
    "\n",
    "总体来看一下各种聚类方法的效果：\n",
    "\n",
    "<img src=\".\\datasets\\sphx_glr_plot_cluster_comparison_001.png\" alt=\"Cat\" width=\"1000\" height=\"800\">\n",
    "\n",
    "所有的方法都能接受形状为（n_samples, n_features）的标准数据矩阵，然后训练数据的标签可以在labels_属性中找到\n",
    "\n",
    "根据之前的经验，从图中可以看出，DBSCAN识别连续形状的能力很强，K均值的适用性很强；在条带的识别上，HDBSCAN可以代替DBSCAN，谱聚类的效果也更好，但是谱聚类只适用于中等样本和小聚类，HDBSCAN可以适配大样本，中等聚类\n",
    "\n",
    "具体还得看实际情况和下面的表格："
   ]
  },
  {
   "cell_type": "markdown",
   "id": "5b9c0649",
   "metadata": {},
   "source": [
    "## 官方表格机翻\n",
    "\n",
    "| **方法名称**                | **参数**                                 | **可扩展性**                                           | **用途**                                        | **几何特性（使用的度量）**               |\n",
    "|-------------------------|---------------------------------------|-----------------------------------------------|--------------------------------------------|------------------------------------|\n",
    "| K-Means                 | 聚类数                                   | 非常大的 n_samples，中等 n_clusters | 通用型，即使聚类大小，平坦几何，不太多的聚类，归纳 | 点之间的距离                        |\n",
    "| Affinity propagation    | 阻尼，样本偏好                              | 不适用于较大的 n_samples                           | 多个聚类，不均匀聚类大小，非平坦几何，归纳        | 图距离（例如最近邻图）                      |\n",
    "| Mean-shift              | 带宽                                     | 不适用于较大的 n_samples                           | 多个聚类，不均匀聚类大小，非平坦几何，归纳        | 点之间的距离                        |\n",
    "| Spectral clustering     | 聚类数                                   | 中等 n_samples，小型 n_clusters                 | 少量聚类，均匀聚类大小，非平坦几何，转导          | 图距离（例如最近邻图）                      |\n",
    "| Ward hierarchical clustering | 聚类数或距离阈值                            | 大型 n_samples 和 n_clusters                     | 多个聚类，可能存在连接约束，转导                | 点之间的距离                        |\n",
    "| Agglomerative clustering | 聚类数或距离阈值、链接类型、距离                    | 大型 n_samples 和 n_clusters                     | 多个聚类，可能存在连接约束，非欧几里得距离，转导      | 任意两点之间的距离                     |\n",
    "| DBSCAN                  | 邻域大小                                   | 非常大的 n_samples，中等 n_clusters                | 非平坦几何，不均匀聚类大小，异常值去除，转导       | 最近点之间的距离                      |\n",
    "| HDBSCAN                 | 最小聚类成员数、最小点邻居数                      | 大型 n_samples，中等 n_clusters                   | 非平坦几何，不均匀聚类大小，异常值去除，转导，层次化，变量聚类密度 | 最近点之间的距离                      |\n",
    "| OPTICS                  | 最小聚类成员数                              | 非常大的 n_samples，大型 n_clusters                | 非平坦几何，不均匀聚类大小，变量聚类密度，异常值去除，转导 | 点之间的距离                        |\n",
    "| 高斯混合模型                         | 许多                                     | 不可扩展                                            | 平坦几何，适用于密度估计，归纳                  | 到中心的马氏距离                      |\n",
    "| BIRCH                   | 分支因子、阈值、可选全局聚类器                      | 大型 n_clusters 和 n_samples                     | 大型数据集，异常值去除，数据降维，归纳             | 点之间的欧氏距离                      |\n",
    "| Bisecting K-Means       | 聚类数                                   | 非常大的 n_samples，中等 n_clusters                | 通用型，即使聚类大小，平坦几何，没有空聚类，归纳，层次化 | 点之间的距离                        |\n"
   ]
  },
  {
   "cell_type": "code",
   "execution_count": 1,
   "id": "1236793b",
   "metadata": {},
   "outputs": [
    {
     "name": "stdout",
     "output_type": "stream",
     "text": [
      ".\\datasets\\data.xlsx\n",
      ".\\datasets\\iris.csv\n",
      ".\\datasets\\Live.csv\n",
      ".\\datasets\\Mall_Customers.csv\n",
      ".\\datasets\\sphx_glr_plot_cluster_comparison_001.png\n",
      ".\\datasets\\users.xlsx\n",
      ".\\datasets\\users_2.xlsx\n",
      "--------------------------------------------------\n"
     ]
    }
   ],
   "source": [
    "import os\n",
    "for dirname, _, filenames in os.walk('.\\datasets'):\n",
    "    for filename in filenames:\n",
    "        print(os.path.join(dirname, filename))\n",
    "# 任何在这个工程文件夹的datasets子文件夹中的文件将被输出\n",
    "\n",
    "print('-'*50)\n",
    "\n",
    "#忽略警告\n",
    "import warnings\n",
    "warnings.filterwarnings('ignore')"
   ]
  }
 ],
 "metadata": {
  "kernelspec": {
   "display_name": "Python 3 (ipykernel)",
   "language": "python",
   "name": "python3"
  },
  "language_info": {
   "codemirror_mode": {
    "name": "ipython",
    "version": 3
   },
   "file_extension": ".py",
   "mimetype": "text/x-python",
   "name": "python",
   "nbconvert_exporter": "python",
   "pygments_lexer": "ipython3",
   "version": "3.11.3"
  }
 },
 "nbformat": 4,
 "nbformat_minor": 5
}
