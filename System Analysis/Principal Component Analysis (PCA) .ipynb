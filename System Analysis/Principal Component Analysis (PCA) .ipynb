{
 "cells": [
  {
   "cell_type": "markdown",
   "id": "fc85dfc2",
   "metadata": {},
   "source": [
    "# 主成分分析（PCA）\n",
    "参考：https://zhuanlan.zhihu.com/p/37777074\n",
    "## 作用\n",
    "把原来的多个变量划为少数几个综合指标的一种统计分析方法，本质上是把数据集进行降维，保留下**最重要**的特征，去除噪声和不重要的特征，从而实现提升数据处理速度的目的，降维有以下几个优点：\n",
    "1. 数据集更易使用\n",
    "2. 降低算法的计算开销\n",
    "3. 去除噪声\n",
    "4. 使得结果更易理解\n",
    "\n",
    "降维的算法有很多，比如奇异值分解(SVD)、主成分分析(PCA)、因子分析(FA)、独立成分分析(ICA)\n",
    "\n",
    "## 数学原理\n",
    "具体见上面链接\n",
    "\n",
    "简单的来说，PCA工作就是从原始的空间中顺序地寻找一组相互正交的坐标轴，新的坐标轴的选择与数据本身是密切相关的，第一个新坐标轴就是原始数据中方差最大的方向。这个工作可以通过计算数据矩阵的协方差矩阵来做到，因为可以对这个协方差矩阵进行特征值分解或SVD分解。\n",
    "\n",
    "以**特征值分解**为例，假设有一个矩阵**A**有一组特征向量**v**，将这组特征向量单位化正交化，能得到一组正交单位向量，特征值分解将**A**分解为如下式：\n",
    "\n",
    "$$A=Q\\Sigma Q^{-1}$$\n",
    "\n",
    "然后我们选择最大的k个特征值，将其对应的k个特征向量组成行向量矩阵P，将数据转换到这k个特征向量对应的新空间中，即\n",
    "$$Y=Px$$\n",
    "\n",
    "另外，还有一种SVD（奇异值分解）的方式，sklearn里PCA算法就是这样实现的，因此结果的*符号*上可能会有所不同，具体看原文\n",
    "\n",
    "## 解释\n",
    "通俗的一种解释是最大方差理论，具体可以看上面的链接的第五个标题\n",
    "\n",
    "## 两种实现\n",
    "下面分别给出python源代码和基于sklearn库的一种实现"
   ]
  },
  {
   "cell_type": "code",
   "execution_count": 1,
   "id": "1dd0ef69",
   "metadata": {},
   "outputs": [
    {
     "name": "stdout",
     "output_type": "stream",
     "text": [
      "[[-0.50917706]\n",
      " [-2.40151069]\n",
      " [-3.7751606 ]\n",
      " [ 1.20075534]\n",
      " [ 2.05572155]\n",
      " [ 3.42937146]]\n"
     ]
    }
   ],
   "source": [
    "## python代码的实现\n",
    "import numpy as np\n",
    "def pca(X,k):#k is the components you want\n",
    "  #mean of each feature\n",
    "  n_samples, n_features = X.shape\n",
    "  mean=np.array([np.mean(X[:,i]) for i in range(n_features)])\n",
    "  #normalization\n",
    "  norm_X=X-mean\n",
    "  #scatter matrix\n",
    "  scatter_matrix=np.dot(np.transpose(norm_X),norm_X)\n",
    "  #Calculate the eigenvectors and eigenvalues\n",
    "  eig_val, eig_vec = np.linalg.eig(scatter_matrix)\n",
    "  eig_pairs = [(np.abs(eig_val[i]), eig_vec[:,i]) for i in range(n_features)]\n",
    "  # sort eig_vec based on eig_val from highest to lowest\n",
    "  eig_pairs.sort(reverse=True)\n",
    "  # select the top k eig_vec\n",
    "  feature=np.array([ele[1] for ele in eig_pairs[:k]])\n",
    "  #get new data\n",
    "  data=np.dot(norm_X,np.transpose(feature))\n",
    "  return data\n",
    "\n",
    "X = np.array([[-1, 1], [-2, -1], [-3, -2], [1, 1], [2, 1], [3, 2]])\n",
    "\n",
    "print(pca(X,1))"
   ]
  },
  {
   "cell_type": "code",
   "execution_count": 2,
   "id": "e3c9738f",
   "metadata": {},
   "outputs": [
    {
     "name": "stdout",
     "output_type": "stream",
     "text": [
      "[[ 0.50917706]\n",
      " [ 2.40151069]\n",
      " [ 3.7751606 ]\n",
      " [-1.20075534]\n",
      " [-2.05572155]\n",
      " [-3.42937146]]\n"
     ]
    },
    {
     "data": {
      "text/plain": [
       "array([7.5413491])"
      ]
     },
     "execution_count": 2,
     "metadata": {},
     "output_type": "execute_result"
    }
   ],
   "source": [
    "## sklearn库的实现\n",
    "from sklearn.decomposition import PCA\n",
    "import numpy as np \n",
    "X = np.array([[-1,1],[-2,-1],[-3,-2],[1,1],[2,1],[3,2]])\n",
    "pca = PCA(n_components=1)\n",
    "pca.fit(X)\n",
    "print(pca.transform(X))\n",
    "\n",
    "pca.explained_variance_"
   ]
  },
  {
   "cell_type": "markdown",
   "id": "d986ef06",
   "metadata": {},
   "source": [
    "这两个结果虽然正负号有不同，但是效果是一样的，因为sklearn在SVD分解中的一个操作中对两边的矩阵同时取反了（不影响结果，可以理解为把坐标轴反向了）"
   ]
  },
  {
   "cell_type": "markdown",
   "id": "a858f853",
   "metadata": {},
   "source": [
    "# 更进一步——关于PCA的参数\n",
    "原文链接：https://blog.csdn.net/qq_46033892/article/details/126308735\n",
    "\n",
    "`sklearn.decomposition.PCA(n_components=None, copy=True, whiten=False)`\n",
    "\n",
    "- **n_components**:int or float，如果是整数则代表将数据降为几维，如果0和1之间的浮点数，则代表满足最低主成分方差的贡献率，比如n_components=0.99，则返回满足主成分方差贡献率达99%的主成分，为None则返回所有主成分，为'mle'则自动选取主成分个数并返回贡献率\n",
    "- **copy**:bool，影响降维后调用方式，copy=True则直接fit_transform(X)显示降维后数据，如果copy=False则fit(X).transform(X)显示降维后数据\n",
    "- **whiten**:是否数据白化\n",
    "\n",
    "还有一些无关紧要的参数，比如奇异值分解SVD的方法\n",
    "\n",
    "部分属性：\n",
    "- components_：最大方差的主成分\n",
    "- explained_variance_：降维后各主成分的方差值，越大说明越重要\n",
    "- explained_variance_ratio_：方差值的占比\n",
    "- singular_values_：所选主成分的奇异值\n",
    "- mean_：各特征的经验平均值，由训练集估计\n",
    "- n_features_：训练集特征数\n",
    "- n_samples_：训练集样本数\n",
    "- noise_variance_：噪声协方差"
   ]
  },
  {
   "cell_type": "code",
   "execution_count": 3,
   "id": "79394977",
   "metadata": {},
   "outputs": [
    {
     "name": "stdout",
     "output_type": "stream",
     "text": [
      ".\\datasets\\PcaData.csv\n",
      "--------------------------------------------------\n"
     ]
    }
   ],
   "source": [
    "import os\n",
    "for dirname, _, filenames in os.walk('.\\datasets'):\n",
    "    for filename in filenames:\n",
    "        print(os.path.join(dirname, filename))\n",
    "# 任何在这个工程文件夹的datasets子文件夹中的文件将被输出\n",
    "\n",
    "print('-'*50)\n",
    "\n",
    "#忽略警告\n",
    "import warnings\n",
    "warnings.filterwarnings('ignore')"
   ]
  },
  {
   "cell_type": "markdown",
   "id": "0ed8c818",
   "metadata": {},
   "source": [
    "部分数据：\n",
    "\n",
    "32.502345269453031,31.70700584656992\n",
    "\n",
    "53.426804033275019,68.77759598163891\n",
    "\n",
    "61.530358025636438,62.562382297945803\n",
    "\n",
    "47.475639634786098,71.546632233567777\n",
    "\n",
    "59.813207869512318,87.230925133687393\n",
    "\n",
    "55.142188413943821,78.211518270799232"
   ]
  },
  {
   "cell_type": "code",
   "execution_count": 4,
   "id": "fc7284e9",
   "metadata": {},
   "outputs": [
    {
     "name": "stdout",
     "output_type": "stream",
     "text": [
      "[365.60767537  23.39589256]\n",
      "[[-45.44636224  -2.12421962]\n",
      " [ -3.18976663   3.01793508]\n",
      " [ -5.83002685  12.88330352]\n",
      " [ -2.90942304  -3.5399096 ]\n",
      " [ 16.30276875   1.85493242]\n",
      " [  6.18233572   0.99182282]\n",
      " [  6.38224294  -2.26293272]\n",
      " [-17.47162688  -6.35674292]\n",
      " [  0.82789634  -4.40701062]\n",
      " [ -1.1942246    1.24211593]\n",
      " [-18.82988128   0.83061242]\n",
      " [  9.82212111  -1.37186701]\n",
      " [-12.98836277  -2.9487278 ]\n",
      " [  4.73664837   4.86650324]\n",
      " [  9.76812424   1.22188719]\n",
      " [-12.34171166   1.9701759 ]\n",
      " [  6.50517651 -10.45869071]\n",
      " [ 25.86419811  -1.58237277]\n",
      " [-24.59111666   3.43281858]\n",
      " [-19.77596879  -5.92458772]\n",
      " [ 15.64636137   9.02909363]\n",
      " [ 47.41949559  -4.97215301]\n",
      " [-16.11355905   1.93663085]\n",
      " [-23.78777016  -1.27626147]\n",
      " [  2.30509842  -0.97058785]\n",
      " [  4.61731581   6.21739986]\n",
      " [ 22.94252066  -3.60547094]\n",
      " [ 25.14749668   2.3063033 ]]\n",
      "[[ 0.38275392  0.92385033]\n",
      " [ 0.92385033 -0.38275392]]\n"
     ]
    },
    {
     "data": {
      "image/png": "[encoded data removed]",
      "text/plain": [
       "<Figure size 640x480 with 1 Axes>"
      ]
     },
     "metadata": {},
     "output_type": "display_data"
    }
   ],
   "source": [
    "# 用sklearn的PCA\n",
    "from sklearn.decomposition import PCA\n",
    "import matplotlib.pyplot as plt\n",
    "import numpy as np\n",
    "data = np.genfromtxt(r\".\\datasets\\PcaData.csv\",delimiter=\",\")\n",
    "\n",
    "# pca = PCA(n_components=2,whiten=True)   whiten=True标准化\n",
    "pca=PCA(n_components=2)\n",
    "pca.fit(data)\n",
    "main_var = pca.explained_variance_  # 特征值\n",
    "print(main_var)\n",
    "pca_data = pca.transform(data)\n",
    "print(pca_data)\n",
    "\n",
    "x_range = np.linspace(35,65,100)\n",
    "\n",
    "print(pca.components_)\n",
    "\n",
    "y_range = x_range * (pca.components_[1][0]/pca.components_[0][0])\n",
    "plt.plot(x_range, y_range, '--')\n",
    "plt.scatter(data[:,0],data[:,1],c=\"b\")\n",
    "plt.show()"
   ]
  },
  {
   "cell_type": "code",
   "execution_count": 5,
   "id": "1efe4659",
   "metadata": {},
   "outputs": [
    {
     "data": {
      "text/plain": [
       "array([99.35495576, 25.13342593])"
      ]
     },
     "execution_count": 5,
     "metadata": {},
     "output_type": "execute_result"
    }
   ],
   "source": [
    "pca.singular_values_"
   ]
  },
  {
   "cell_type": "markdown",
   "id": "c2e44cdc",
   "metadata": {},
   "source": [
    "# 再进一步，和K-means结合\n",
    "原文链接：https://www.kaggle.com/code/asindico/customer-segments-with-pca"
   ]
  },
  {
   "cell_type": "markdown",
   "id": "0dfeb93a",
   "metadata": {},
   "source": [
    "## 1.导入和预处理\n",
    "本文使用的数据集比较大，为了仓库的精简外置了，下载链接如下：\n",
    "\n",
    "https://www.kaggle.com/competitions/instacart-market-basket-analysis/data"
   ]
  },
  {
   "cell_type": "code",
   "execution_count": 6,
   "id": "a027ec41",
   "metadata": {},
   "outputs": [
    {
     "name": "stdout",
     "output_type": "stream",
     "text": [
      "--------------------------------------------------\n"
     ]
    }
   ],
   "source": [
    "import numpy as np\n",
    "import pandas as pd\n",
    "\n",
    "import os\n",
    "for dirname, _, filenames in os.walk('D:\\datasets'):\n",
    "    for filename in filenames:\n",
    "        print(os.path.join(dirname, filename))\n",
    "# 任何在这个工程文件夹的datasets子文件夹中的文件将被输出\n",
    "\n",
    "print('-'*50)\n",
    "\n",
    "#忽略警告\n",
    "import warnings\n",
    "warnings.filterwarnings('ignore')"
   ]
  },
  {
   "cell_type": "code",
   "execution_count": 7,
   "id": "e440704c",
   "metadata": {},
   "outputs": [
    {
     "ename": "FileNotFoundError",
     "evalue": "[Errno 2] No such file or directory: 'D:\\\\datasets\\\\orders.csv'",
     "output_type": "error",
     "traceback": [
      "\u001b[1;31m---------------------------------------------------------------------------\u001b[0m",
      "\u001b[1;31mFileNotFoundError\u001b[0m                         Traceback (most recent call last)",
      "Cell \u001b[1;32mIn[7], line 1\u001b[0m\n\u001b[1;32m----> 1\u001b[0m orders \u001b[38;5;241m=\u001b[39m \u001b[43mpd\u001b[49m\u001b[38;5;241;43m.\u001b[39;49m\u001b[43mread_csv\u001b[49m\u001b[43m(\u001b[49m\u001b[38;5;124;43mr\u001b[39;49m\u001b[38;5;124;43m'\u001b[39;49m\u001b[38;5;124;43mD:\u001b[39;49m\u001b[38;5;124;43m\\\u001b[39;49m\u001b[38;5;124;43mdatasets\u001b[39;49m\u001b[38;5;124;43m\\\u001b[39;49m\u001b[38;5;124;43morders.csv\u001b[39;49m\u001b[38;5;124;43m'\u001b[39;49m\u001b[43m)\u001b[49m\n\u001b[0;32m      2\u001b[0m \u001b[38;5;28mprint\u001b[39m(orders\u001b[38;5;241m.\u001b[39mshape)\n\u001b[0;32m      3\u001b[0m orders\u001b[38;5;241m.\u001b[39mhead()\n",
      "File \u001b[1;32mD:\\anaconda\\lib\\site-packages\\pandas\\util\\_decorators.py:211\u001b[0m, in \u001b[0;36mdeprecate_kwarg.<locals>._deprecate_kwarg.<locals>.wrapper\u001b[1;34m(*args, **kwargs)\u001b[0m\n\u001b[0;32m    209\u001b[0m     \u001b[38;5;28;01melse\u001b[39;00m:\n\u001b[0;32m    210\u001b[0m         kwargs[new_arg_name] \u001b[38;5;241m=\u001b[39m new_arg_value\n\u001b[1;32m--> 211\u001b[0m \u001b[38;5;28;01mreturn\u001b[39;00m func(\u001b[38;5;241m*\u001b[39margs, \u001b[38;5;241m*\u001b[39m\u001b[38;5;241m*\u001b[39mkwargs)\n",
      "File \u001b[1;32mD:\\anaconda\\lib\\site-packages\\pandas\\util\\_decorators.py:331\u001b[0m, in \u001b[0;36mdeprecate_nonkeyword_arguments.<locals>.decorate.<locals>.wrapper\u001b[1;34m(*args, **kwargs)\u001b[0m\n\u001b[0;32m    325\u001b[0m \u001b[38;5;28;01mif\u001b[39;00m \u001b[38;5;28mlen\u001b[39m(args) \u001b[38;5;241m>\u001b[39m num_allow_args:\n\u001b[0;32m    326\u001b[0m     warnings\u001b[38;5;241m.\u001b[39mwarn(\n\u001b[0;32m    327\u001b[0m         msg\u001b[38;5;241m.\u001b[39mformat(arguments\u001b[38;5;241m=\u001b[39m_format_argument_list(allow_args)),\n\u001b[0;32m    328\u001b[0m         \u001b[38;5;167;01mFutureWarning\u001b[39;00m,\n\u001b[0;32m    329\u001b[0m         stacklevel\u001b[38;5;241m=\u001b[39mfind_stack_level(),\n\u001b[0;32m    330\u001b[0m     )\n\u001b[1;32m--> 331\u001b[0m \u001b[38;5;28;01mreturn\u001b[39;00m func(\u001b[38;5;241m*\u001b[39margs, \u001b[38;5;241m*\u001b[39m\u001b[38;5;241m*\u001b[39mkwargs)\n",
      "File \u001b[1;32mD:\\anaconda\\lib\\site-packages\\pandas\\io\\parsers\\readers.py:950\u001b[0m, in \u001b[0;36mread_csv\u001b[1;34m(filepath_or_buffer, sep, delimiter, header, names, index_col, usecols, squeeze, prefix, mangle_dupe_cols, dtype, engine, converters, true_values, false_values, skipinitialspace, skiprows, skipfooter, nrows, na_values, keep_default_na, na_filter, verbose, skip_blank_lines, parse_dates, infer_datetime_format, keep_date_col, date_parser, dayfirst, cache_dates, iterator, chunksize, compression, thousands, decimal, lineterminator, quotechar, quoting, doublequote, escapechar, comment, encoding, encoding_errors, dialect, error_bad_lines, warn_bad_lines, on_bad_lines, delim_whitespace, low_memory, memory_map, float_precision, storage_options)\u001b[0m\n\u001b[0;32m    935\u001b[0m kwds_defaults \u001b[38;5;241m=\u001b[39m _refine_defaults_read(\n\u001b[0;32m    936\u001b[0m     dialect,\n\u001b[0;32m    937\u001b[0m     delimiter,\n\u001b[1;32m   (...)\u001b[0m\n\u001b[0;32m    946\u001b[0m     defaults\u001b[38;5;241m=\u001b[39m{\u001b[38;5;124m\"\u001b[39m\u001b[38;5;124mdelimiter\u001b[39m\u001b[38;5;124m\"\u001b[39m: \u001b[38;5;124m\"\u001b[39m\u001b[38;5;124m,\u001b[39m\u001b[38;5;124m\"\u001b[39m},\n\u001b[0;32m    947\u001b[0m )\n\u001b[0;32m    948\u001b[0m kwds\u001b[38;5;241m.\u001b[39mupdate(kwds_defaults)\n\u001b[1;32m--> 950\u001b[0m \u001b[38;5;28;01mreturn\u001b[39;00m \u001b[43m_read\u001b[49m\u001b[43m(\u001b[49m\u001b[43mfilepath_or_buffer\u001b[49m\u001b[43m,\u001b[49m\u001b[43m \u001b[49m\u001b[43mkwds\u001b[49m\u001b[43m)\u001b[49m\n",
      "File \u001b[1;32mD:\\anaconda\\lib\\site-packages\\pandas\\io\\parsers\\readers.py:605\u001b[0m, in \u001b[0;36m_read\u001b[1;34m(filepath_or_buffer, kwds)\u001b[0m\n\u001b[0;32m    602\u001b[0m _validate_names(kwds\u001b[38;5;241m.\u001b[39mget(\u001b[38;5;124m\"\u001b[39m\u001b[38;5;124mnames\u001b[39m\u001b[38;5;124m\"\u001b[39m, \u001b[38;5;28;01mNone\u001b[39;00m))\n\u001b[0;32m    604\u001b[0m \u001b[38;5;66;03m# Create the parser.\u001b[39;00m\n\u001b[1;32m--> 605\u001b[0m parser \u001b[38;5;241m=\u001b[39m TextFileReader(filepath_or_buffer, \u001b[38;5;241m*\u001b[39m\u001b[38;5;241m*\u001b[39mkwds)\n\u001b[0;32m    607\u001b[0m \u001b[38;5;28;01mif\u001b[39;00m chunksize \u001b[38;5;129;01mor\u001b[39;00m iterator:\n\u001b[0;32m    608\u001b[0m     \u001b[38;5;28;01mreturn\u001b[39;00m parser\n",
      "File \u001b[1;32mD:\\anaconda\\lib\\site-packages\\pandas\\io\\parsers\\readers.py:1442\u001b[0m, in \u001b[0;36mTextFileReader.__init__\u001b[1;34m(self, f, engine, **kwds)\u001b[0m\n\u001b[0;32m   1439\u001b[0m     \u001b[38;5;28mself\u001b[39m\u001b[38;5;241m.\u001b[39moptions[\u001b[38;5;124m\"\u001b[39m\u001b[38;5;124mhas_index_names\u001b[39m\u001b[38;5;124m\"\u001b[39m] \u001b[38;5;241m=\u001b[39m kwds[\u001b[38;5;124m\"\u001b[39m\u001b[38;5;124mhas_index_names\u001b[39m\u001b[38;5;124m\"\u001b[39m]\n\u001b[0;32m   1441\u001b[0m \u001b[38;5;28mself\u001b[39m\u001b[38;5;241m.\u001b[39mhandles: IOHandles \u001b[38;5;241m|\u001b[39m \u001b[38;5;28;01mNone\u001b[39;00m \u001b[38;5;241m=\u001b[39m \u001b[38;5;28;01mNone\u001b[39;00m\n\u001b[1;32m-> 1442\u001b[0m \u001b[38;5;28mself\u001b[39m\u001b[38;5;241m.\u001b[39m_engine \u001b[38;5;241m=\u001b[39m \u001b[38;5;28;43mself\u001b[39;49m\u001b[38;5;241;43m.\u001b[39;49m\u001b[43m_make_engine\u001b[49m\u001b[43m(\u001b[49m\u001b[43mf\u001b[49m\u001b[43m,\u001b[49m\u001b[43m \u001b[49m\u001b[38;5;28;43mself\u001b[39;49m\u001b[38;5;241;43m.\u001b[39;49m\u001b[43mengine\u001b[49m\u001b[43m)\u001b[49m\n",
      "File \u001b[1;32mD:\\anaconda\\lib\\site-packages\\pandas\\io\\parsers\\readers.py:1735\u001b[0m, in \u001b[0;36mTextFileReader._make_engine\u001b[1;34m(self, f, engine)\u001b[0m\n\u001b[0;32m   1733\u001b[0m     \u001b[38;5;28;01mif\u001b[39;00m \u001b[38;5;124m\"\u001b[39m\u001b[38;5;124mb\u001b[39m\u001b[38;5;124m\"\u001b[39m \u001b[38;5;129;01mnot\u001b[39;00m \u001b[38;5;129;01min\u001b[39;00m mode:\n\u001b[0;32m   1734\u001b[0m         mode \u001b[38;5;241m+\u001b[39m\u001b[38;5;241m=\u001b[39m \u001b[38;5;124m\"\u001b[39m\u001b[38;5;124mb\u001b[39m\u001b[38;5;124m\"\u001b[39m\n\u001b[1;32m-> 1735\u001b[0m \u001b[38;5;28mself\u001b[39m\u001b[38;5;241m.\u001b[39mhandles \u001b[38;5;241m=\u001b[39m \u001b[43mget_handle\u001b[49m\u001b[43m(\u001b[49m\n\u001b[0;32m   1736\u001b[0m \u001b[43m    \u001b[49m\u001b[43mf\u001b[49m\u001b[43m,\u001b[49m\n\u001b[0;32m   1737\u001b[0m \u001b[43m    \u001b[49m\u001b[43mmode\u001b[49m\u001b[43m,\u001b[49m\n\u001b[0;32m   1738\u001b[0m \u001b[43m    \u001b[49m\u001b[43mencoding\u001b[49m\u001b[38;5;241;43m=\u001b[39;49m\u001b[38;5;28;43mself\u001b[39;49m\u001b[38;5;241;43m.\u001b[39;49m\u001b[43moptions\u001b[49m\u001b[38;5;241;43m.\u001b[39;49m\u001b[43mget\u001b[49m\u001b[43m(\u001b[49m\u001b[38;5;124;43m\"\u001b[39;49m\u001b[38;5;124;43mencoding\u001b[39;49m\u001b[38;5;124;43m\"\u001b[39;49m\u001b[43m,\u001b[49m\u001b[43m \u001b[49m\u001b[38;5;28;43;01mNone\u001b[39;49;00m\u001b[43m)\u001b[49m\u001b[43m,\u001b[49m\n\u001b[0;32m   1739\u001b[0m \u001b[43m    \u001b[49m\u001b[43mcompression\u001b[49m\u001b[38;5;241;43m=\u001b[39;49m\u001b[38;5;28;43mself\u001b[39;49m\u001b[38;5;241;43m.\u001b[39;49m\u001b[43moptions\u001b[49m\u001b[38;5;241;43m.\u001b[39;49m\u001b[43mget\u001b[49m\u001b[43m(\u001b[49m\u001b[38;5;124;43m\"\u001b[39;49m\u001b[38;5;124;43mcompression\u001b[39;49m\u001b[38;5;124;43m\"\u001b[39;49m\u001b[43m,\u001b[49m\u001b[43m \u001b[49m\u001b[38;5;28;43;01mNone\u001b[39;49;00m\u001b[43m)\u001b[49m\u001b[43m,\u001b[49m\n\u001b[0;32m   1740\u001b[0m \u001b[43m    \u001b[49m\u001b[43mmemory_map\u001b[49m\u001b[38;5;241;43m=\u001b[39;49m\u001b[38;5;28;43mself\u001b[39;49m\u001b[38;5;241;43m.\u001b[39;49m\u001b[43moptions\u001b[49m\u001b[38;5;241;43m.\u001b[39;49m\u001b[43mget\u001b[49m\u001b[43m(\u001b[49m\u001b[38;5;124;43m\"\u001b[39;49m\u001b[38;5;124;43mmemory_map\u001b[39;49m\u001b[38;5;124;43m\"\u001b[39;49m\u001b[43m,\u001b[49m\u001b[43m \u001b[49m\u001b[38;5;28;43;01mFalse\u001b[39;49;00m\u001b[43m)\u001b[49m\u001b[43m,\u001b[49m\n\u001b[0;32m   1741\u001b[0m \u001b[43m    \u001b[49m\u001b[43mis_text\u001b[49m\u001b[38;5;241;43m=\u001b[39;49m\u001b[43mis_text\u001b[49m\u001b[43m,\u001b[49m\n\u001b[0;32m   1742\u001b[0m \u001b[43m    \u001b[49m\u001b[43merrors\u001b[49m\u001b[38;5;241;43m=\u001b[39;49m\u001b[38;5;28;43mself\u001b[39;49m\u001b[38;5;241;43m.\u001b[39;49m\u001b[43moptions\u001b[49m\u001b[38;5;241;43m.\u001b[39;49m\u001b[43mget\u001b[49m\u001b[43m(\u001b[49m\u001b[38;5;124;43m\"\u001b[39;49m\u001b[38;5;124;43mencoding_errors\u001b[39;49m\u001b[38;5;124;43m\"\u001b[39;49m\u001b[43m,\u001b[49m\u001b[43m \u001b[49m\u001b[38;5;124;43m\"\u001b[39;49m\u001b[38;5;124;43mstrict\u001b[39;49m\u001b[38;5;124;43m\"\u001b[39;49m\u001b[43m)\u001b[49m\u001b[43m,\u001b[49m\n\u001b[0;32m   1743\u001b[0m \u001b[43m    \u001b[49m\u001b[43mstorage_options\u001b[49m\u001b[38;5;241;43m=\u001b[39;49m\u001b[38;5;28;43mself\u001b[39;49m\u001b[38;5;241;43m.\u001b[39;49m\u001b[43moptions\u001b[49m\u001b[38;5;241;43m.\u001b[39;49m\u001b[43mget\u001b[49m\u001b[43m(\u001b[49m\u001b[38;5;124;43m\"\u001b[39;49m\u001b[38;5;124;43mstorage_options\u001b[39;49m\u001b[38;5;124;43m\"\u001b[39;49m\u001b[43m,\u001b[49m\u001b[43m \u001b[49m\u001b[38;5;28;43;01mNone\u001b[39;49;00m\u001b[43m)\u001b[49m\u001b[43m,\u001b[49m\n\u001b[0;32m   1744\u001b[0m \u001b[43m\u001b[49m\u001b[43m)\u001b[49m\n\u001b[0;32m   1745\u001b[0m \u001b[38;5;28;01massert\u001b[39;00m \u001b[38;5;28mself\u001b[39m\u001b[38;5;241m.\u001b[39mhandles \u001b[38;5;129;01mis\u001b[39;00m \u001b[38;5;129;01mnot\u001b[39;00m \u001b[38;5;28;01mNone\u001b[39;00m\n\u001b[0;32m   1746\u001b[0m f \u001b[38;5;241m=\u001b[39m \u001b[38;5;28mself\u001b[39m\u001b[38;5;241m.\u001b[39mhandles\u001b[38;5;241m.\u001b[39mhandle\n",
      "File \u001b[1;32mD:\\anaconda\\lib\\site-packages\\pandas\\io\\common.py:856\u001b[0m, in \u001b[0;36mget_handle\u001b[1;34m(path_or_buf, mode, encoding, compression, memory_map, is_text, errors, storage_options)\u001b[0m\n\u001b[0;32m    851\u001b[0m \u001b[38;5;28;01melif\u001b[39;00m \u001b[38;5;28misinstance\u001b[39m(handle, \u001b[38;5;28mstr\u001b[39m):\n\u001b[0;32m    852\u001b[0m     \u001b[38;5;66;03m# Check whether the filename is to be opened in binary mode.\u001b[39;00m\n\u001b[0;32m    853\u001b[0m     \u001b[38;5;66;03m# Binary mode does not support 'encoding' and 'newline'.\u001b[39;00m\n\u001b[0;32m    854\u001b[0m     \u001b[38;5;28;01mif\u001b[39;00m ioargs\u001b[38;5;241m.\u001b[39mencoding \u001b[38;5;129;01mand\u001b[39;00m \u001b[38;5;124m\"\u001b[39m\u001b[38;5;124mb\u001b[39m\u001b[38;5;124m\"\u001b[39m \u001b[38;5;129;01mnot\u001b[39;00m \u001b[38;5;129;01min\u001b[39;00m ioargs\u001b[38;5;241m.\u001b[39mmode:\n\u001b[0;32m    855\u001b[0m         \u001b[38;5;66;03m# Encoding\u001b[39;00m\n\u001b[1;32m--> 856\u001b[0m         handle \u001b[38;5;241m=\u001b[39m \u001b[38;5;28;43mopen\u001b[39;49m\u001b[43m(\u001b[49m\n\u001b[0;32m    857\u001b[0m \u001b[43m            \u001b[49m\u001b[43mhandle\u001b[49m\u001b[43m,\u001b[49m\n\u001b[0;32m    858\u001b[0m \u001b[43m            \u001b[49m\u001b[43mioargs\u001b[49m\u001b[38;5;241;43m.\u001b[39;49m\u001b[43mmode\u001b[49m\u001b[43m,\u001b[49m\n\u001b[0;32m    859\u001b[0m \u001b[43m            \u001b[49m\u001b[43mencoding\u001b[49m\u001b[38;5;241;43m=\u001b[39;49m\u001b[43mioargs\u001b[49m\u001b[38;5;241;43m.\u001b[39;49m\u001b[43mencoding\u001b[49m\u001b[43m,\u001b[49m\n\u001b[0;32m    860\u001b[0m \u001b[43m            \u001b[49m\u001b[43merrors\u001b[49m\u001b[38;5;241;43m=\u001b[39;49m\u001b[43merrors\u001b[49m\u001b[43m,\u001b[49m\n\u001b[0;32m    861\u001b[0m \u001b[43m            \u001b[49m\u001b[43mnewline\u001b[49m\u001b[38;5;241;43m=\u001b[39;49m\u001b[38;5;124;43m\"\u001b[39;49m\u001b[38;5;124;43m\"\u001b[39;49m\u001b[43m,\u001b[49m\n\u001b[0;32m    862\u001b[0m \u001b[43m        \u001b[49m\u001b[43m)\u001b[49m\n\u001b[0;32m    863\u001b[0m     \u001b[38;5;28;01melse\u001b[39;00m:\n\u001b[0;32m    864\u001b[0m         \u001b[38;5;66;03m# Binary mode\u001b[39;00m\n\u001b[0;32m    865\u001b[0m         handle \u001b[38;5;241m=\u001b[39m \u001b[38;5;28mopen\u001b[39m(handle, ioargs\u001b[38;5;241m.\u001b[39mmode)\n",
      "\u001b[1;31mFileNotFoundError\u001b[0m: [Errno 2] No such file or directory: 'D:\\\\datasets\\\\orders.csv'"
     ]
    }
   ],
   "source": [
    "orders = pd.read_csv(r'D:\\datasets\\orders.csv')\n",
    "print(orders.shape)\n",
    "orders.head()\n",
    "\n",
    "### 这个数据集展示的订单，订单由order_id标识\n",
    "### order_number用来标识同一用户先后下定订单的时间，越小说明这个用户最早买的是这个订单"
   ]
  },
  {
   "cell_type": "code",
   "execution_count": null,
   "id": "4ba70db7",
   "metadata": {},
   "outputs": [],
   "source": [
    "prior = pd.read_csv(r'D:\\datasets\\order_products__prior.csv')\n",
    "print(prior.shape)\n",
    "prior.head()\n",
    "\n",
    "### 每个订单由一组产品构成，每个产品都具有add_to_cart_order特征，表示他们被添加到购物车的顺序"
   ]
  },
  {
   "cell_type": "code",
   "execution_count": null,
   "id": "c6bd53ff",
   "metadata": {},
   "outputs": [],
   "source": [
    "train = pd.read_csv(r'D:\\datasets\\order_products__train.csv')\n",
    "print(train.shape)\n",
    "train.head()"
   ]
  },
  {
   "cell_type": "code",
   "execution_count": null,
   "id": "d77c0f12",
   "metadata": {},
   "outputs": [],
   "source": [
    "order_prior = pd.merge(prior,orders,on=['order_id','order_id'])\n",
    "# 对两个表进行连接\n",
    "\n",
    "order_prior = order_prior.sort_values(by=['user_id','order_id'])\n",
    "# 对用户id和订单id进行排序\n",
    "\n",
    "order_prior.head()"
   ]
  },
  {
   "cell_type": "code",
   "execution_count": null,
   "id": "e8c0a620",
   "metadata": {},
   "outputs": [],
   "source": [
    "products = pd.read_csv(r'D:\\datasets\\products.csv')\n",
    "products.head()"
   ]
  },
  {
   "cell_type": "code",
   "execution_count": null,
   "id": "c1e6e751",
   "metadata": {},
   "outputs": [],
   "source": [
    "aisles = pd.read_csv(r'D:\\datasets\\aisles.csv')\n",
    "aisles.head()"
   ]
  },
  {
   "cell_type": "code",
   "execution_count": null,
   "id": "b8f2d9e0",
   "metadata": {},
   "outputs": [],
   "source": [
    "print(aisles.shape)\n",
    "print(aisles[93:94])"
   ]
  },
  {
   "cell_type": "markdown",
   "id": "f79d6a8e",
   "metadata": {},
   "source": [
    "### 解释\n",
    "接下来把数据进行整合\n",
    "- 首先把先前订单和产品对应上\n",
    "- 然后和购买对应订单的用户对应上\n",
    "- 然后和食物存放区域（aisle）对应上，比如：一款茶的aisle_id是94，其对应的aisle是tea，也就是茶饮区域"
   ]
  },
  {
   "cell_type": "code",
   "execution_count": null,
   "id": "6185d73b",
   "metadata": {},
   "outputs": [],
   "source": [
    "_mt = pd.merge(prior,products, on = ['product_id','product_id'])\n",
    "_mt = pd.merge(_mt,orders,on=['order_id','order_id'])\n",
    "mt = pd.merge(_mt,aisles,on=['aisle_id','aisle_id'])\n",
    "mt.head(10)"
   ]
  },
  {
   "cell_type": "code",
   "execution_count": null,
   "id": "146b6ccd",
   "metadata": {},
   "outputs": [],
   "source": [
    "### 检查最终结果中，产品的购买总量情况\n",
    "mt['product_name'].value_counts()[:]"
   ]
  },
  {
   "cell_type": "markdown",
   "id": "11a497ed",
   "metadata": {},
   "source": [
    "可以看出这里的用户很喜欢吃♂香蕉"
   ]
  },
  {
   "cell_type": "code",
   "execution_count": null,
   "id": "bf03eb1f",
   "metadata": {},
   "outputs": [],
   "source": [
    "len(mt['product_name'].unique())\n",
    "# 商品总数"
   ]
  },
  {
   "cell_type": "code",
   "execution_count": null,
   "id": "875833ef",
   "metadata": {},
   "outputs": [],
   "source": [
    "print(len(mt['aisle'].unique()))\n",
    "# 商品的类型总数\n",
    "\n",
    "mt['aisle'].value_counts()[0:10]\n",
    "# 最主要的10类产品，可以看出，新鲜蔬果是用户的最爱"
   ]
  },
  {
   "cell_type": "markdown",
   "id": "4f31d3c0",
   "metadata": {},
   "source": [
    "## 2.聚类\n",
    "现在希望进行聚类，那么首先要搞清楚拿什么进行聚类，拿每个人每个产品的购买情况吗？显然不行，因为总共有大概5W件产品，维度直接爆炸，其次这些产品分属于不同的类别，而现在单独把他们拿出来进行聚类显然是不合适的，因此要用aisle来进行聚类，那么首先就要筛选出每个用户的每个种类产品的购买情况\n",
    "\n",
    "这里我们已经有一个大的df，类似一个sql数据库，保存了user_id、order_id、产品名和产品种类，现在我们想做的无非就是进行计数\n",
    "\n",
    "这里使用到pandas的crosstab，可以节省很多时间：https://zhuanlan.zhihu.com/p/585690655"
   ]
  },
  {
   "cell_type": "code",
   "execution_count": null,
   "id": "5a2ce9e4",
   "metadata": {},
   "outputs": [],
   "source": [
    "cust_prod = pd.crosstab(mt['user_id'], mt['aisle'])\n",
    "# 这种方式是以user_id为index，统计aisle的频数\n",
    "\n",
    "cust_prod.head(10)"
   ]
  },
  {
   "cell_type": "code",
   "execution_count": null,
   "id": "f84d07eb",
   "metadata": {},
   "outputs": [],
   "source": [
    "cust_prod.shape"
   ]
  },
  {
   "cell_type": "markdown",
   "id": "ef5c6f5e",
   "metadata": {},
   "source": [
    "### 主成分分析\n",
    "因为对于K-means来说，高维度可能会对精度有致命的打击，因此我们需要把原来的134个特征降维，原文降到6个特征"
   ]
  },
  {
   "cell_type": "code",
   "execution_count": null,
   "id": "6d8599f1",
   "metadata": {},
   "outputs": [],
   "source": [
    "from sklearn.decomposition import PCA\n",
    "pca = PCA(n_components=6)\n",
    "pca.fit(cust_prod)\n",
    "pca_samples = pca.transform(cust_prod)"
   ]
  },
  {
   "cell_type": "code",
   "execution_count": null,
   "id": "8c08e699",
   "metadata": {},
   "outputs": [],
   "source": [
    "ps = pd.DataFrame(pca_samples)\n",
    "ps.head()"
   ]
  },
  {
   "cell_type": "markdown",
   "id": "59f0f630",
   "metadata": {},
   "source": [
    "绘图，原文这里直接给出了结论，为了分析过程的完整性，我画了一个6x6的图"
   ]
  },
  {
   "cell_type": "code",
   "execution_count": null,
   "id": "4df8967b",
   "metadata": {
    "scrolled": false
   },
   "outputs": [],
   "source": [
    "from matplotlib import pyplot as plt\n",
    "from mpl_toolkits.mplot3d import Axes3D\n",
    "from mpl_toolkits.mplot3d import proj3d\n",
    "\n",
    "\n",
    "fig = plt.figure(figsize=(16,16))\n",
    "plt.title('Plot of Matrix', fontsize=25)\n",
    "\n",
    "axes = []\n",
    "for i in range(36):\n",
    "    ax = fig.add_subplot(6,6,i+1)\n",
    "    axes.append(ax)\n",
    "\n",
    "for i in range(6):\n",
    "    for j in range(6):\n",
    "        axes[6*i+j].plot(ps[i],ps[j],'o',markersize=0.5,color='blue',alpha=0.5,label='class')\n",
    "        \n",
    "plt.show()"
   ]
  },
  {
   "cell_type": "markdown",
   "id": "4ddfcd02",
   "metadata": {},
   "source": [
    "作者在此处选择了第二列和第五列（虽然没看出来是怎么选出来的）\n",
    "\n",
    "后面作者聚类的时候就使用了这两列的数据进行聚类，这里可以理解，因为要用全部六维数据进行聚类计算的复杂度太高，跑的时间会很长，但是这里作者的选取没有给太多的理由，感觉比较偏主观"
   ]
  },
  {
   "cell_type": "code",
   "execution_count": null,
   "id": "a9b35664",
   "metadata": {},
   "outputs": [],
   "source": [
    "from matplotlib import pyplot as plt\n",
    "from mpl_toolkits.mplot3d import Axes3D\n",
    "from mpl_toolkits.mplot3d import proj3d\n",
    "tocluster = pd.DataFrame(ps[[4,1]])\n",
    "print (tocluster.shape)\n",
    "print (tocluster.head())\n",
    "\n",
    "fig = plt.figure(figsize=(4,4))\n",
    "plt.plot(tocluster[4], tocluster[1], 'o', markersize=2, color='blue', alpha=0.5, label='class1')\n",
    "\n",
    "plt.xlabel('x_values')\n",
    "plt.ylabel('y_values')\n",
    "plt.legend()\n",
    "plt.show()"
   ]
  },
  {
   "cell_type": "markdown",
   "id": "a9c762cf",
   "metadata": {},
   "source": [
    "### 评估一下最佳聚类数\n",
    "用之前Kmeans的yellowbrick包"
   ]
  },
  {
   "cell_type": "code",
   "execution_count": null,
   "id": "8c637a8f",
   "metadata": {},
   "outputs": [],
   "source": [
    "## 肘部法则\n",
    "\n",
    "# yellowbrick\n",
    "from sklearn.cluster import KMeans\n",
    "from yellowbrick.cluster import KElbowVisualizer\n",
    "\n",
    "model = KMeans(random_state=1)\n",
    "visualizer = KElbowVisualizer(model, k=(2,10))\n",
    "\n",
    "visualizer.fit(tocluster)\n",
    "visualizer.show()\n",
    "plt.show()\n",
    "\n",
    "# 下图中表示随着k增加，失真分数降低，底层算法推荐的是k=5为最佳"
   ]
  },
  {
   "cell_type": "code",
   "execution_count": null,
   "id": "0a6ddb7c",
   "metadata": {},
   "outputs": [],
   "source": [
    "### 聚类\n",
    "\n",
    "from sklearn.cluster import KMeans\n",
    "from sklearn.metrics import silhouette_score\n",
    "\n",
    "clusterer = KMeans(n_clusters=5,random_state=42).fit(tocluster)\n",
    "centers = clusterer.cluster_centers_\n",
    "c_preds = clusterer.predict(tocluster)\n",
    "print(centers)"
   ]
  },
  {
   "cell_type": "code",
   "execution_count": null,
   "id": "9a226fc3",
   "metadata": {},
   "outputs": [],
   "source": [
    "print (c_preds[0:100])"
   ]
  },
  {
   "cell_type": "code",
   "execution_count": null,
   "id": "d66acab9",
   "metadata": {},
   "outputs": [],
   "source": [
    "import matplotlib\n",
    "fig = plt.figure(figsize=(6,6))\n",
    "colors = ['orange','blue','purple','green','yellow']\n",
    "colored = [colors[k] for k in c_preds]\n",
    "print (colored[0:10])\n",
    "plt.scatter(tocluster[4],tocluster[1],  color = colored, s=4)\n",
    "for ci,c in enumerate(centers):\n",
    "    plt.plot(c[0], c[1], 'o', markersize=4, color='red', alpha=0.9)\n",
    "\n",
    "plt.xlabel('x_values')\n",
    "plt.ylabel('y_values')\n",
    "plt.show()"
   ]
  },
  {
   "cell_type": "markdown",
   "id": "57e55b5a",
   "metadata": {},
   "source": [
    "## 3.评估\n",
    "可以看到虽然我们使用了5聚类，但是结果表现的并不是很好，我们认为橙色和绿色的部分共性应该是比较多的，看一下他们的数量就可以知道了"
   ]
  },
  {
   "cell_type": "code",
   "execution_count": null,
   "id": "c2be30ab",
   "metadata": {},
   "outputs": [],
   "source": [
    "## 各个聚类的数量\n",
    "\n",
    "tocluster['cluster']=c_preds\n",
    "tocluster.head()"
   ]
  },
  {
   "cell_type": "code",
   "execution_count": null,
   "id": "f198b162",
   "metadata": {},
   "outputs": [],
   "source": [
    "KM_clust_sizes = tocluster.groupby('cluster').size().to_frame()\n",
    "KM_clust_sizes.columns = [\"KM_size\"]\n",
    "KM_clust_sizes"
   ]
  },
  {
   "cell_type": "markdown",
   "id": "c09f3238",
   "metadata": {},
   "source": [
    "2、4差的有点多，还是选择了作者的四分类"
   ]
  },
  {
   "cell_type": "code",
   "execution_count": null,
   "id": "6d6286e2",
   "metadata": {},
   "outputs": [],
   "source": [
    "tocluster = pd.DataFrame(ps[[4,1]]) \n",
    "### 聚类\n",
    "from sklearn.cluster import KMeans\n",
    "from sklearn.metrics import silhouette_score\n",
    "\n",
    "clusterer = KMeans(n_clusters=4,random_state=42).fit(tocluster)\n",
    "centers = clusterer.cluster_centers_\n",
    "c_preds = clusterer.predict(tocluster)\n",
    "print(centers)"
   ]
  },
  {
   "cell_type": "code",
   "execution_count": null,
   "id": "175fa4fa",
   "metadata": {},
   "outputs": [],
   "source": [
    "fig = plt.figure(figsize=(6,6))\n",
    "colors = ['orange','blue','purple','green']\n",
    "colored = [colors[k] for k in c_preds]\n",
    "print (colored[0:10])\n",
    "plt.scatter(tocluster[4],tocluster[1],s=5,color = colored)\n",
    "for ci,c in enumerate(centers):\n",
    "    plt.plot(c[0], c[1], 'o', markersize=6, color='red', alpha=0.9, label=''+str(ci))\n",
    "\n",
    "plt.xlabel('x_values')\n",
    "plt.ylabel('y_values')\n",
    "plt.legend()\n",
    "plt.show()\n",
    "\n",
    "## 各个聚类的数量\n",
    "tocluster['cluster']=c_preds\n",
    "tocluster.head()\n",
    "\n",
    "KM_clust_sizes = tocluster.groupby('cluster').size().to_frame()\n",
    "KM_clust_sizes.columns = [\"KM_size\"]\n",
    "KM_clust_sizes"
   ]
  },
  {
   "cell_type": "markdown",
   "id": "f2269854",
   "metadata": {},
   "source": [
    "现在把cluster加入到用户id的表格中"
   ]
  },
  {
   "cell_type": "code",
   "execution_count": null,
   "id": "e8493f2e",
   "metadata": {
    "scrolled": false
   },
   "outputs": [],
   "source": [
    "clust_prod = cust_prod.copy()\n",
    "clust_prod['cluster'] = c_preds\n",
    "\n",
    "clust_prod.head(10)"
   ]
  },
  {
   "cell_type": "code",
   "execution_count": null,
   "id": "486f4048",
   "metadata": {},
   "outputs": [],
   "source": [
    "print (clust_prod.shape)\n",
    "f,arr = plt.subplots(2,2,sharex=True,figsize=(8,8))\n",
    "\n",
    "c1_count = len(clust_prod[clust_prod['cluster']==0])\n",
    "\n",
    "c0 = clust_prod[clust_prod['cluster']==0].drop('cluster',axis=1).mean()\n",
    "arr[0,0].bar(range(len(clust_prod.drop('cluster',axis=1).columns)),c0)\n",
    "c1 = clust_prod[clust_prod['cluster']==1].drop('cluster',axis=1).mean()\n",
    "arr[0,1].bar(range(len(clust_prod.drop('cluster',axis=1).columns)),c1)\n",
    "c2 = clust_prod[clust_prod['cluster']==2].drop('cluster',axis=1).mean()\n",
    "arr[1,0].bar(range(len(clust_prod.drop('cluster',axis=1).columns)),c2)\n",
    "c3 = clust_prod[clust_prod['cluster']==3].drop('cluster',axis=1).mean()\n",
    "arr[1,1].bar(range(len(clust_prod.drop('cluster',axis=1).columns)),c3)\n",
    "plt.show()\n",
    "\n",
    "### 这一步是绘制了各个聚类中各用户对不同产品的购买频数中位数，结果可以看到这四类用户偏好的产品还是有一定差异的"
   ]
  },
  {
   "cell_type": "code",
   "execution_count": null,
   "id": "2e2a186f",
   "metadata": {},
   "outputs": [],
   "source": [
    "c0.sort_values(ascending=False)[0:10]"
   ]
  },
  {
   "cell_type": "code",
   "execution_count": null,
   "id": "75f41b0d",
   "metadata": {},
   "outputs": [],
   "source": [
    "c1.sort_values(ascending=False)[0:10]"
   ]
  },
  {
   "cell_type": "code",
   "execution_count": null,
   "id": "ce433d00",
   "metadata": {},
   "outputs": [],
   "source": [
    "c2.sort_values(ascending=False)[0:10]"
   ]
  },
  {
   "cell_type": "code",
   "execution_count": null,
   "id": "43211be2",
   "metadata": {},
   "outputs": [],
   "source": [
    "c3.sort_values(ascending=False)[0:10]\n",
    "\n",
    "### baby food formula主要都给这群人买了，好家伙，宝爸宝妈是吧"
   ]
  },
  {
   "cell_type": "code",
   "execution_count": null,
   "id": "fe545ea7",
   "metadata": {},
   "outputs": [],
   "source": [
    "from IPython.display import display, HTML\n",
    "cluster_means = [[c0['fresh fruits'],c0['fresh vegetables'],c0['packaged vegetables fruits'], c0['yogurt'], c0['packaged cheese'], c0['milk'],c0['water seltzer sparkling water'],c0['chips pretzels']],\n",
    "                 [c1['fresh fruits'],c1['fresh vegetables'],c1['packaged vegetables fruits'], c1['yogurt'], c1['packaged cheese'], c1['milk'],c1['water seltzer sparkling water'],c1['chips pretzels']],\n",
    "                 [c2['fresh fruits'],c2['fresh vegetables'],c2['packaged vegetables fruits'], c2['yogurt'], c2['packaged cheese'], c2['milk'],c2['water seltzer sparkling water'],c2['chips pretzels']],\n",
    "                 [c3['fresh fruits'],c3['fresh vegetables'],c3['packaged vegetables fruits'], c3['yogurt'], c3['packaged cheese'], c3['milk'],c3['water seltzer sparkling water'],c3['chips pretzels']]]\n",
    "cluster_means = pd.DataFrame(cluster_means, columns = ['fresh fruits','fresh vegetables','packaged vegetables fruits','yogurt','packaged cheese','milk','water seltzer sparkling water','chips pretzels'])\n",
    "HTML(cluster_means.to_html())"
   ]
  },
  {
   "cell_type": "markdown",
   "id": "d56c6535",
   "metadata": {},
   "source": [
    "### 观察结果\n",
    "聚类0的各项购买量都很少而且很平均，我认为是偶尔逛逛超市的人\n",
    "\n",
    "聚类1偏好新鲜水果和酸奶\n",
    "\n",
    "聚类2相当偏好新鲜蔬菜\n",
    "\n",
    "聚类3各项指标都比较高。根据之前的表，这类群体是baby food formula的主要购买者"
   ]
  },
  {
   "cell_type": "markdown",
   "id": "6783698f",
   "metadata": {},
   "source": [
    "### 后记\n",
    "作者观察到不同聚类群体购买量排行的第10-15位表现出了不同的特征，因为这里基本上都是别的群体不买的东西，可能会反映群体的偏好，这里我用一个表展示出来"
   ]
  },
  {
   "cell_type": "code",
   "execution_count": null,
   "id": "c986cd5e",
   "metadata": {},
   "outputs": [],
   "source": []
  },
  {
   "cell_type": "code",
   "execution_count": null,
   "id": "3906fac2",
   "metadata": {},
   "outputs": [],
   "source": [
    "c0.sort_values(ascending=False)[10:15]"
   ]
  },
  {
   "cell_type": "code",
   "execution_count": null,
   "id": "c9036f8c",
   "metadata": {},
   "outputs": [],
   "source": [
    "preference = pd.DataFrame([c0.sort_values(ascending=False)[10:15].index.to_list(),\n",
    "                          c1.sort_values(ascending=False)[10:15].index.to_list(),\n",
    "                          c2.sort_values(ascending=False)[10:15].index.to_list(),\n",
    "                          c3.sort_values(ascending=False)[10:15].index.to_list()], columns=['top11','top12','top13','top14','top15'])\n",
    "preference.head()"
   ]
  },
  {
   "cell_type": "markdown",
   "id": "a7023662",
   "metadata": {},
   "source": [
    "看表格之后的结论是，好像没啥太大联系"
   ]
  },
  {
   "cell_type": "markdown",
   "id": "fdf2df1b",
   "metadata": {},
   "source": [
    "0.5x + 1y\n",
    "\n",
    "x y \n",
    "\n",
    "z = 0.5x+0.5y\n",
    "\n",
    "0.5x + 1y"
   ]
  }
 ],
 "metadata": {
  "kernelspec": {
   "display_name": "Python 3 (ipykernel)",
   "language": "python",
   "name": "python3"
  },
  "language_info": {
   "codemirror_mode": {
    "name": "ipython",
    "version": 3
   },
   "file_extension": ".py",
   "mimetype": "text/x-python",
   "name": "python",
   "nbconvert_exporter": "python",
   "pygments_lexer": "ipython3",
   "version": "3.10.9"
  }
 },
 "nbformat": 4,
 "nbformat_minor": 5
}
