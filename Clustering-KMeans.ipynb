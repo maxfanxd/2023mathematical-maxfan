{
 "cells": [
  {
   "cell_type": "markdown",
   "id": "a145d720",
   "metadata": {},
   "source": [
    "# 聚类\n",
    "## K均值聚类\n",
    "\n",
    "### 数学原理\n",
    "> 参考：《Python数学实验与建模》\n",
    ">\n",
    "> [聚类算法优缺点对比](https://blog.csdn.net/weixin_46713695/article/details/125725036?ops_request_misc=%257B%2522request%255Fid%2522%253A%2522168880886016782425175195%2522%252C%2522scm%2522%253A%252220140713.130102334..%2522%257D&amp;request_id=168880886016782425175195&amp;biz_id=0&amp;utm_medium=distribute.pc_search_result.none-task-blog-2~all~sobaiduend~default-1-125725036-null-null.142^v88^insert_down1,239^v2^insert_chatgpt&amp;utm_term=%E4%B8%8D%E5%90%8C%E8%81%9A%E7%B1%BB%E7%AE%97%E6%B3%95%E7%9A%84%E4%BC%98%E7%BC%BA%E7%82%B9&amp;spm=1018.2226.3001.4187)\n",
    ">\n",
    "> [Chapter 14: Clustering.pdf: 6.036 Introduction to Machine Learning (mit.edu)](https://canvas.mit.edu/courses/7509/files/1044932)\n",
    "\n",
    "假定样本集中的全体样本可以分为$C$类，并选定$C$个初始聚类中心，然后根据最小距离原则将每个样本分配到某一类中，之后不断迭代计算各类的聚类中心，并依据新的聚类中心调整聚类情况，直到迭代收敛或聚类中心不再改变。\n",
    "\n",
    "K-均值聚类算法最后将总样本集$G$划分成$C$个子集：$G_1,G_2,...,G_C$，他们满足下面条件：\n",
    "\n",
    "1. $G_1 \\cup G_2 \\cup...\\cup G_C=G;$\n",
    "2. $G_i \\cup G_j = \\varnothing (1 \\leq i \\lt j \\leq C)$\n",
    "3. $G_i \\neq \\varnothing, G_i \\neq G (1 \\leq i \\leq C)$\n",
    "\n",
    "设$m_i (i=1,...,C)$为$C$个聚类中心，记\n",
    "\n",
    "$$\n",
    "J_e = \\sum_{i=1}^{C} \\sum_{\\omega\\in G_i} \\lVert \\omega - m_i \\rVert^2\n",
    "$$\n",
    "\n",
    "使$J_e$最小的聚类是误差平方和准则下的最优结果\n",
    "\n",
    "### 优点\n",
    "1. 简单，易于理解和实现\n",
    "2. 时间复杂度低\n",
    "3. 当簇是密集的、球状或团状的，而簇与簇之间区别明显时，它的聚类效果很好\n",
    "\n",
    "### 缺点\n",
    "1. 需要对均值给出定义\n",
    "2. 需要指定要聚类的数目，对 K 值敏感。也就是说，K 的选择会较大程度上影响分类效果\n",
    "3. 对离群点和噪声点敏感，一些过大的异常值会带来很大影响\n",
    "4. 算法对初始聚类中心选择敏感"
   ]
  },
  {
   "cell_type": "code",
   "execution_count": 1,
   "id": "66726eb0",
   "metadata": {},
   "outputs": [],
   "source": [
    "#忽略警告\n",
    "import warnings\n",
    "warnings.filterwarnings('ignore')"
   ]
  },
  {
   "cell_type": "code",
   "execution_count": 2,
   "id": "5d552849",
   "metadata": {},
   "outputs": [],
   "source": [
    "# k-means clustering\n",
    "from numpy import unique\n",
    "from numpy import where\n",
    "from sklearn.datasets import make_classification\n",
    "from sklearn.cluster import KMeans\n",
    "from matplotlib import pyplot\n",
    "# define dataset\n",
    "X, _ = make_classification(n_samples=1000, n_features=2, n_informative=2, n_redundant=0, n_clusters_per_class=1, random_state=4)"
   ]
  },
  {
   "cell_type": "code",
   "execution_count": 3,
   "id": "860190a1",
   "metadata": {},
   "outputs": [
    {
     "data": {
      "text/plain": [
       "array([[ 1.22515974, -0.95173116],\n",
       "       [ 1.01630365, -1.72517506],\n",
       "       [ 0.33534004, -1.7248955 ],\n",
       "       ...,\n",
       "       [ 1.54270795, -0.05566478],\n",
       "       [ 0.81664566, -1.2509187 ],\n",
       "       [ 1.13782254, -1.26151957]])"
      ]
     },
     "execution_count": 3,
     "metadata": {},
     "output_type": "execute_result"
    }
   ],
   "source": [
    "X\n",
    "# X是造出来的数据集，有1000个样本，2个特征，2个有效特征，0个冗余特征，每个类别簇数量是1个，随机数生成器种子值为4\n",
    "# X, _的语法忽略了特征，我们也可以加上"
   ]
  },
  {
   "cell_type": "code",
   "execution_count": 4,
   "id": "285497b7",
   "metadata": {},
   "outputs": [
    {
     "data": {
      "text/plain": [
       "array([1, 1, 1, 1, 1, 0, 1, 1, 1, 1])"
      ]
     },
     "execution_count": 4,
     "metadata": {},
     "output_type": "execute_result"
    }
   ],
   "source": [
    "X, y = make_classification(n_samples=1000, n_features=2, n_informative=2, n_redundant=0, n_clusters_per_class=1, random_state=4)\n",
    "y[:10]\n",
    "# 前十个样本的数据标签"
   ]
  },
  {
   "cell_type": "code",
   "execution_count": 5,
   "id": "b1162052",
   "metadata": {},
   "outputs": [
    {
     "data": {
      "text/plain": [
       "array([0, 0, 1, 0, 0, 1, 0, 0, 0, 0, 1, 1, 1, 1, 0, 1, 1, 1, 1, 1, 1, 0,\n",
       "       1, 1, 0, 0, 0, 1, 0, 0, 1, 0, 0, 1, 1, 1, 1, 1, 1, 0])"
      ]
     },
     "execution_count": 5,
     "metadata": {},
     "output_type": "execute_result"
    }
   ],
   "source": [
    "# define the model\n",
    "model = KMeans(n_clusters=2)\n",
    "# fit the model\n",
    "model.fit(X)\n",
    "# assign a cluster to each example\n",
    "yhat = model.predict(X)\n",
    "yhat[:40]"
   ]
  },
  {
   "cell_type": "code",
   "execution_count": 6,
   "id": "ecb52fde",
   "metadata": {},
   "outputs": [
    {
     "data": {
      "text/plain": [
       "1000"
      ]
     },
     "execution_count": 6,
     "metadata": {},
     "output_type": "execute_result"
    }
   ],
   "source": [
    "yhat.size"
   ]
  },
  {
   "cell_type": "code",
   "execution_count": 7,
   "id": "91a3c52b",
   "metadata": {},
   "outputs": [
    {
     "data": {
      "text/plain": [
       "2"
      ]
     },
     "execution_count": 7,
     "metadata": {},
     "output_type": "execute_result"
    }
   ],
   "source": [
    "# retrieve unique clusters\n",
    "# 这一步将预测出来的标签做unique处理，这样就只有两种类型了\n",
    "clusters = unique(yhat)\n",
    "clusters.size"
   ]
  },
  {
   "cell_type": "code",
   "execution_count": 8,
   "id": "cc7755fa",
   "metadata": {},
   "outputs": [
    {
     "data": {
      "image/png": "[encoded data removed]",
      "text/plain": [
       "<Figure size 640x480 with 1 Axes>"
      ]
     },
     "metadata": {},
     "output_type": "display_data"
    }
   ],
   "source": [
    "# create scatter plot for samples from each cluster\n",
    "for cluster in clusters:\n",
    "\t# get row indexes for samples with this cluster\n",
    "\trow_ix = where(yhat == cluster)\n",
    "    #这里yhat == cluster会生成一个布尔数组\n",
    "    #然后where是寻找这个布尔数组中为True的下标，即找到属于这个cluster的下标\n",
    "\t# create scatter of these samples\n",
    "\tpyplot.scatter(X[row_ix, 0], X[row_ix, 1])\n",
    "# show the plot\n",
    "pyplot.show()"
   ]
  },
  {
   "cell_type": "markdown",
   "id": "31823d31",
   "metadata": {},
   "source": [
    "### 尝试选取不同的n值\n",
    "我们依次选取n=2,3,4,5,6,7，然后绘制在子图中"
   ]
  },
  {
   "cell_type": "code",
   "execution_count": 9,
   "id": "bdfbf354",
   "metadata": {
    "scrolled": false
   },
   "outputs": [
    {
     "data": {
      "image/png": "[encoded data removed]",
      "text/plain": [
       "<Figure size 1200x800 with 6 Axes>"
      ]
     },
     "metadata": {},
     "output_type": "display_data"
    }
   ],
   "source": [
    "from numpy import unique, where\n",
    "from sklearn.datasets import make_classification\n",
    "from sklearn.cluster import KMeans\n",
    "from matplotlib import pyplot as plt\n",
    "\n",
    "# define dataset\n",
    "X, _ = make_classification(n_samples=1000, n_features=2, n_informative=2, n_redundant=0, n_clusters_per_class=1, random_state=4)\n",
    "\n",
    "num_clusters=range(2,8)\n",
    "\n",
    "# 创造2x3的子图\n",
    "fig, axs = plt.subplots(2, 3, figsize=(12, 8))\n",
    "\n",
    "# 遍历不同的组数\n",
    "# 这里enumerate的作用是，遍历num_clusters列表，将值存在n中，将下标存在i中\n",
    "for i, n in enumerate(num_clusters):\n",
    "    # create KMeans model\n",
    "    model = KMeans(n_clusters=n)\n",
    "    \n",
    "    # fit the model\n",
    "    model.fit(X)\n",
    "    \n",
    "    # assign a cluster to each example\n",
    "    yhat = model.predict(X)\n",
    "\n",
    "    # retrieve unique clusters\n",
    "    clusters = unique(yhat)\n",
    "    \n",
    "    # plot the clusters in the corresponding subplot\n",
    "    row = i // 3    #python中的整除运算符\n",
    "    col = i % 3\n",
    "    ax = axs[row, col]\n",
    "    \n",
    "    # create scatter plot for samples from each cluster\n",
    "    for cluster in clusters:\n",
    "        # get row indexes for samples with this cluster\n",
    "        row_ix = where(yhat == cluster)\n",
    "        # create scatter of these samples\n",
    "        ax.scatter(X[row_ix, 0], X[row_ix, 1])\n",
    "        ax.set_title(f\"K = {n}\")\n",
    "        # 字符串的格式化语法，f前缀之后的字符串中，被{}包含的部分代表变量\n",
    "        ax.set_xlabel(\"Feature 1\")\n",
    "        ax.set_ylabel(\"Feature 2\")\n",
    "\n",
    "# 自动调整子图之间的间距\n",
    "plt.tight_layout()\n",
    "\n",
    "# show the plot\n",
    "plt.show()"
   ]
  },
  {
   "cell_type": "markdown",
   "id": "6b2c7576",
   "metadata": {},
   "source": [
    "## 如何选取最佳K值\n",
    "\n",
    "我们有4种方法：\n",
    "1. 肘部法则（Elbow Method）\n",
    "2. 轮廓系数（Silhouette Coefficient）\n",
    "3. 间隔统计量（Gap Statistic）\n",
    "4. 领域知识和先验信息\n",
    "\n",
    "下面给出前2种的实现代码（也是比较常用的）\n",
    "\n",
    "关于间隔统计量，可以参考https://www.scutmath.com/k_means_choose_k.html"
   ]
  },
  {
   "cell_type": "markdown",
   "id": "1518795f",
   "metadata": {},
   "source": [
    "### 肘部法则\n",
    "通过绘制不同K值下的聚类损失（例如，平方误差和）与K值的关系图，观察图像中的\"肘部\"点。该肘部点是聚类损失下降速率变缓的点，通常表示了最佳的K值。\n",
    "\n",
    "在K均值聚类中，每个样本点都被分配到距离其最近的聚类中心，以形成簇。聚类损失函数（也称为簇内平方和）是衡量聚类效果的指标，它计算了每个样本点与其所属聚类中心之间的距离的平方，并对所有样本进行求和。\n",
    "\n",
    "当簇数K增加时，每个簇的样本数量会减少，从而聚类损失也会减少。然而，如果K值设置得太大，可能会出现过度拟合的情况，导致簇内距离减小的幅度不再显著，而簇间距离的改善效果相对较小。\n",
    "\n",
    "肘部法则的核心思想是观察聚类损失随着簇数的增加而变化的模式。当K值较小时，聚类损失通常会较大幅度地下降。然而，随着K值的继续增加，聚类损失的改善效果逐渐减小。在某个K值之后，聚类损失的改善趋势会形成一个肘部形状，即曲线开始变得平缓。\n",
    "\n",
    "根据肘部法则，我们选择使聚类损失显著下降的那个K值作为最佳的簇数。这个K值通常对应于肘部形状的转折点，因为在转折点之后，增加更多的簇并不会显著改善聚类结果。\n",
    "\n",
    "**下面的例子中可以看到，在k=3的时候簇内损失会放缓，所以最好选取3作为k的值**"
   ]
  },
  {
   "cell_type": "code",
   "execution_count": 11,
   "id": "924b6531",
   "metadata": {},
   "outputs": [
    {
     "data": {
      "image/png": "[encoded data removed]",
      "text/plain": [
       "<Figure size 640x480 with 1 Axes>"
      ]
     },
     "metadata": {},
     "output_type": "display_data"
    }
   ],
   "source": [
    "from sklearn.cluster import KMeans\n",
    "from sklearn.datasets import make_classification\n",
    "from sklearn.metrics import pairwise_distances_argmin_min\n",
    "import matplotlib.pyplot as plt\n",
    "\n",
    "# 生成分类数据集\n",
    "X, _ = make_classification(n_samples=1000, n_features=2, n_informative=2, n_redundant=0, n_clusters_per_class=1, random_state=4)\n",
    "\n",
    "# 计算不同K值下的聚类损失\n",
    "k_values = range(1, 11)\n",
    "losses = []\n",
    "for k in k_values:\n",
    "    model = KMeans(n_clusters=k)\n",
    "    model.fit(X)\n",
    "    loss = model.inertia_\n",
    "    losses.append(loss)\n",
    "\n",
    "plt.rcParams['font.family'] = 'SimHei'  # 设置中文字体为黑体或其他合适的中文字体\n",
    "plt.rcParams['axes.unicode_minus'] = False  # 解决负号显示为方块的问题\n",
    "# 绘制肘部法则图\n",
    "plt.plot(k_values, losses, marker='o')\n",
    "plt.xlabel('聚类数 (K)')\n",
    "plt.ylabel('聚类损失')\n",
    "plt.title('肘部法则')\n",
    "plt.show()"
   ]
  },
  {
   "cell_type": "markdown",
   "id": "b26dceee",
   "metadata": {},
   "source": [
    "### 轮廓系数\n",
    "根据绘制的图像，选择具有最大平均轮廓系数的K值作为最佳K值。\n",
    "\n",
    "这里的轮廓系数当k=3的时候最大，和上面的差不多\n",
    "\n",
    "轮廓系数的详解：\n",
    "https://www.wikiwand.com/zh/%E8%BD%AE%E5%BB%93_(%E8%81%9A%E7%B1%BB)"
   ]
  },
  {
   "cell_type": "code",
   "execution_count": 12,
   "id": "989315fd",
   "metadata": {
    "scrolled": false
   },
   "outputs": [
    {
     "data": {
      "image/png": "[encoded data removed]",
      "text/plain": [
       "<Figure size 640x480 with 1 Axes>"
      ]
     },
     "metadata": {},
     "output_type": "display_data"
    }
   ],
   "source": [
    "from sklearn.cluster import KMeans\n",
    "from sklearn.datasets import make_classification\n",
    "from sklearn.metrics import silhouette_score\n",
    "\n",
    "# 生成分类数据集\n",
    "X, _ = make_classification(n_samples=1000, n_features=2, n_informative=2, n_redundant=0, n_clusters_per_class=1, random_state=4)\n",
    "\n",
    "# 计算不同K值下的轮廓系数\n",
    "k_values = range(2, 11)\n",
    "silhouette_scores = []\n",
    "for k in k_values:\n",
    "    model = KMeans(n_clusters=k)\n",
    "    labels = model.fit_predict(X)\n",
    "    silhouette_avg = silhouette_score(X, labels)\n",
    "    silhouette_scores.append(silhouette_avg)\n",
    "\n",
    "    \n",
    "#后面要在plt中绘制中文，因此这里先设置一下中文字体\n",
    "plt.rcParams['font.family'] = 'SimHei'  # 设置中文字体为黑体或其他合适的中文字体\n",
    "plt.rcParams['axes.unicode_minus'] = False  # 解决负号显示为方块的问题\n",
    "#其他中文字体\n",
    "# 'Microsoft YaHei'：微软雅黑字体\n",
    "# 'SimSun'：宋体字体\n",
    "# 'SimKai'：楷体字体\n",
    "# 'FangSong'：仿宋字体\n",
    "# 'KaiTi'：楷体字体\n",
    "# 'LiSu'：隶书字体\n",
    "# 'YouYuan'：幼圆字体\n",
    "# 'STSong'：华文宋体\n",
    "# 'STKaiti'：华文楷体\n",
    "# 'STFangsong'：华文仿宋\n",
    "# 'STXihei'：华文细黑\n",
    "# 'STLiti'：华文隶书\n",
    "\n",
    "\n",
    "# 绘制轮廓系数图\n",
    "plt.plot(k_values, silhouette_scores, marker='o')\n",
    "plt.xlabel('聚类数 (K)')\n",
    "plt.ylabel('轮廓系数')\n",
    "plt.title('轮廓系数与聚类数关系图')\n",
    "plt.show()"
   ]
  },
  {
   "cell_type": "markdown",
   "id": "60c498fa",
   "metadata": {},
   "source": [
    "### 间隔统计量"
   ]
  },
  {
   "cell_type": "code",
   "execution_count": 91,
   "id": "0f92aebb",
   "metadata": {},
   "outputs": [
    {
     "name": "stdout",
     "output_type": "stream",
     "text": [
      "Gap Statistic: [1.24896212 1.08280615 1.30340518 1.31664556 1.33594047 1.31145857\n",
      " 1.41791505 1.43153276 1.46631947 1.46547696]\n",
      "Best K value: 9\n"
     ]
    }
   ],
   "source": [
    "import numpy as np\n",
    "from sklearn.cluster import KMeans\n",
    "from sklearn.datasets import make_classification\n",
    "from sklearn.metrics import pairwise_distances_argmin_min\n",
    "\n",
    "def calculate_Wk(data, centroids, cluster):\n",
    "    K = centroids.shape[0]\n",
    "    wk = 0.0\n",
    "    for k in range(K):\n",
    "        data_in_cluster = data[cluster == k, :]\n",
    "        center = centroids[k, :]\n",
    "        num_points = data_in_cluster.shape[0]\n",
    "        for i in range(num_points):\n",
    "            wk = wk + np.linalg.norm(data_in_cluster[i, :] - center, ord=2) ** 2\n",
    "    return wk\n",
    "\n",
    "def bounding_box(data):\n",
    "    dim = data.shape[1]\n",
    "    boxes = []\n",
    "    for i in range(dim):\n",
    "        data_min = np.amin(data[:, i])\n",
    "        data_max = np.amax(data[:, i])\n",
    "        boxes.append((data_min, data_max))\n",
    "    return boxes\n",
    "\n",
    "def gap_statistic(data, max_K, B):\n",
    "    num_points, dim = data.shape\n",
    "    K_range = np.arange(1, max_K+1)\n",
    "    log_Wks = np.zeros(len(K_range))\n",
    "    gaps = np.zeros(len(K_range))\n",
    "    sks = np.zeros(len(K_range))\n",
    "\n",
    "    for ind_K, K in enumerate(K_range):\n",
    "        model = KMeans(n_clusters=K)\n",
    "        model.fit(data)\n",
    "        cluster_centers = model.cluster_centers_\n",
    "        labels = model.labels_\n",
    "        log_Wks[ind_K] = np.log(calculate_Wk(data, cluster_centers, labels))\n",
    "\n",
    "        # 生成B个参考数据集\n",
    "        log_Wkbs = np.zeros(B)\n",
    "        for b in range(B):\n",
    "            data_generate = np.zeros((num_points, dim))\n",
    "            boxes = bounding_box(data)\n",
    "            for i in range(num_points):\n",
    "                for j in range(dim):\n",
    "                    data_generate[i][j] = np.random.uniform(boxes[j][0], boxes[j][1])\n",
    "            model_b = KMeans(n_clusters=K)\n",
    "            model_b.fit(data_generate)\n",
    "            cluster_centers_b = model_b.cluster_centers_\n",
    "            labels_b = model_b.labels_\n",
    "            log_Wkbs[b] = np.log(calculate_Wk(data_generate, cluster_centers_b, labels_b))\n",
    "        \n",
    "        gaps[ind_K] = np.mean(log_Wkbs) - log_Wks[ind_K]\n",
    "        sks[ind_K] = np.std(log_Wkbs) * np.sqrt(1 + 1.0 / B)\n",
    "\n",
    "    best_k = np.argmax(gaps) + 1\n",
    "    return best_k, gaps, sks\n",
    "\n",
    "# 生成分类数据集\n",
    "X, _ = make_classification(n_samples=1000, n_features=2, n_informative=2, n_redundant=0, n_clusters_per_class=1, random_state=4)\n",
    "\n",
    "# 设置最大簇数和参考数据集数量\n",
    "max_K = 10\n",
    "B = 5\n",
    "\n",
    "# 计算最佳K值和间隔统计量\n",
    "best_k, gaps, sks = gap_statistic(X, max_K, B)\n",
    "\n",
    "# 打印结果\n",
    "print(\"Gap Statistic:\", gaps)\n",
    "print(\"Best K value:\", best_k)\n"
   ]
  },
  {
   "cell_type": "markdown",
   "id": "a7c644f0",
   "metadata": {},
   "source": [
    "## K-Means的另一个例子\n",
    "\n",
    "来源：https://www.kaggle.com/code/prashant111/k-means-clustering-with-python"
   ]
  },
  {
   "cell_type": "markdown",
   "id": "a8573594",
   "metadata": {},
   "source": [
    "### 导入数据集\n",
    "数据可以从来源处的input进行下载，这里我放在了同一级的datasets文件夹中"
   ]
  },
  {
   "cell_type": "code",
   "execution_count": 96,
   "id": "d1f53d80",
   "metadata": {},
   "outputs": [],
   "source": [
    "# This Python 3 environment comes with many helpful analytics libraries installed\n",
    "# It is defined by the kaggle/python docker image: https://github.com/kaggle/docker-python\n",
    "# For example, here's several helpful packages to load in \n",
    "\n",
    "import numpy as np # linear algebra\n",
    "import pandas as pd # data processing, CSV file I/O (e.g. pd.read_csv)\n",
    "import matplotlib.pyplot as plt # for data visualization\n",
    "import seaborn as sns # for statistical data visualization\n",
    "%matplotlib inline\n",
    "\n",
    "# Input data files are available in the \"../input/\" directory.\n",
    "# For example, running this (by clicking run or pressing Shift+Enter) will list all files under the input directory"
   ]
  },
  {
   "cell_type": "code",
   "execution_count": 97,
   "id": "ae1a751a",
   "metadata": {},
   "outputs": [
    {
     "name": "stdout",
     "output_type": "stream",
     "text": [
      ".\\datasets\\Live.csv\n"
     ]
    }
   ],
   "source": [
    "import os\n",
    "for dirname, _, filenames in os.walk('.\\datasets'):\n",
    "    for filename in filenames:\n",
    "        print(os.path.join(dirname, filename))\n",
    "# 任何在这个工程文件夹的datasets子文件夹中的文件将被输出\n",
    "\n",
    "#忽略警告\n",
    "import warnings\n",
    "warnings.filterwarnings('ignore')"
   ]
  },
  {
   "cell_type": "code",
   "execution_count": 98,
   "id": "60bfe04e",
   "metadata": {},
   "outputs": [
    {
     "data": {
      "text/html": [
       "<div>\n",
       "<style scoped>\n",
       "    .dataframe tbody tr th:only-of-type {\n",
       "        vertical-align: middle;\n",
       "    }\n",
       "\n",
       "    .dataframe tbody tr th {\n",
       "        vertical-align: top;\n",
       "    }\n",
       "\n",
       "    .dataframe thead th {\n",
       "        text-align: right;\n",
       "    }\n",
       "</style>\n",
       "<table border=\"1\" class=\"dataframe\">\n",
       "  <thead>\n",
       "    <tr style=\"text-align: right;\">\n",
       "      <th></th>\n",
       "      <th>status_id</th>\n",
       "      <th>status_type</th>\n",
       "      <th>status_published</th>\n",
       "      <th>num_reactions</th>\n",
       "      <th>num_comments</th>\n",
       "      <th>num_shares</th>\n",
       "      <th>num_likes</th>\n",
       "      <th>num_loves</th>\n",
       "      <th>num_wows</th>\n",
       "      <th>num_hahas</th>\n",
       "      <th>num_sads</th>\n",
       "      <th>num_angrys</th>\n",
       "      <th>Column1</th>\n",
       "      <th>Column2</th>\n",
       "      <th>Column3</th>\n",
       "      <th>Column4</th>\n",
       "    </tr>\n",
       "  </thead>\n",
       "  <tbody>\n",
       "    <tr>\n",
       "      <th>0</th>\n",
       "      <td>246675545449582_1649696485147474</td>\n",
       "      <td>video</td>\n",
       "      <td>4/22/2018 6:00</td>\n",
       "      <td>529</td>\n",
       "      <td>512</td>\n",
       "      <td>262</td>\n",
       "      <td>432</td>\n",
       "      <td>92</td>\n",
       "      <td>3</td>\n",
       "      <td>1</td>\n",
       "      <td>1</td>\n",
       "      <td>0</td>\n",
       "      <td>NaN</td>\n",
       "      <td>NaN</td>\n",
       "      <td>NaN</td>\n",
       "      <td>NaN</td>\n",
       "    </tr>\n",
       "    <tr>\n",
       "      <th>1</th>\n",
       "      <td>246675545449582_1649426988507757</td>\n",
       "      <td>photo</td>\n",
       "      <td>4/21/2018 22:45</td>\n",
       "      <td>150</td>\n",
       "      <td>0</td>\n",
       "      <td>0</td>\n",
       "      <td>150</td>\n",
       "      <td>0</td>\n",
       "      <td>0</td>\n",
       "      <td>0</td>\n",
       "      <td>0</td>\n",
       "      <td>0</td>\n",
       "      <td>NaN</td>\n",
       "      <td>NaN</td>\n",
       "      <td>NaN</td>\n",
       "      <td>NaN</td>\n",
       "    </tr>\n",
       "    <tr>\n",
       "      <th>2</th>\n",
       "      <td>246675545449582_1648730588577397</td>\n",
       "      <td>video</td>\n",
       "      <td>4/21/2018 6:17</td>\n",
       "      <td>227</td>\n",
       "      <td>236</td>\n",
       "      <td>57</td>\n",
       "      <td>204</td>\n",
       "      <td>21</td>\n",
       "      <td>1</td>\n",
       "      <td>1</td>\n",
       "      <td>0</td>\n",
       "      <td>0</td>\n",
       "      <td>NaN</td>\n",
       "      <td>NaN</td>\n",
       "      <td>NaN</td>\n",
       "      <td>NaN</td>\n",
       "    </tr>\n",
       "    <tr>\n",
       "      <th>3</th>\n",
       "      <td>246675545449582_1648576705259452</td>\n",
       "      <td>photo</td>\n",
       "      <td>4/21/2018 2:29</td>\n",
       "      <td>111</td>\n",
       "      <td>0</td>\n",
       "      <td>0</td>\n",
       "      <td>111</td>\n",
       "      <td>0</td>\n",
       "      <td>0</td>\n",
       "      <td>0</td>\n",
       "      <td>0</td>\n",
       "      <td>0</td>\n",
       "      <td>NaN</td>\n",
       "      <td>NaN</td>\n",
       "      <td>NaN</td>\n",
       "      <td>NaN</td>\n",
       "    </tr>\n",
       "    <tr>\n",
       "      <th>4</th>\n",
       "      <td>246675545449582_1645700502213739</td>\n",
       "      <td>photo</td>\n",
       "      <td>4/18/2018 3:22</td>\n",
       "      <td>213</td>\n",
       "      <td>0</td>\n",
       "      <td>0</td>\n",
       "      <td>204</td>\n",
       "      <td>9</td>\n",
       "      <td>0</td>\n",
       "      <td>0</td>\n",
       "      <td>0</td>\n",
       "      <td>0</td>\n",
       "      <td>NaN</td>\n",
       "      <td>NaN</td>\n",
       "      <td>NaN</td>\n",
       "      <td>NaN</td>\n",
       "    </tr>\n",
       "    <tr>\n",
       "      <th>5</th>\n",
       "      <td>246675545449582_1645650162218773</td>\n",
       "      <td>photo</td>\n",
       "      <td>4/18/2018 2:14</td>\n",
       "      <td>217</td>\n",
       "      <td>6</td>\n",
       "      <td>0</td>\n",
       "      <td>211</td>\n",
       "      <td>5</td>\n",
       "      <td>1</td>\n",
       "      <td>0</td>\n",
       "      <td>0</td>\n",
       "      <td>0</td>\n",
       "      <td>NaN</td>\n",
       "      <td>NaN</td>\n",
       "      <td>NaN</td>\n",
       "      <td>NaN</td>\n",
       "    </tr>\n",
       "    <tr>\n",
       "      <th>6</th>\n",
       "      <td>246675545449582_1645564175560705</td>\n",
       "      <td>video</td>\n",
       "      <td>4/18/2018 0:24</td>\n",
       "      <td>503</td>\n",
       "      <td>614</td>\n",
       "      <td>72</td>\n",
       "      <td>418</td>\n",
       "      <td>70</td>\n",
       "      <td>10</td>\n",
       "      <td>2</td>\n",
       "      <td>0</td>\n",
       "      <td>3</td>\n",
       "      <td>NaN</td>\n",
       "      <td>NaN</td>\n",
       "      <td>NaN</td>\n",
       "      <td>NaN</td>\n",
       "    </tr>\n",
       "    <tr>\n",
       "      <th>7</th>\n",
       "      <td>246675545449582_1644824665634656</td>\n",
       "      <td>video</td>\n",
       "      <td>4/17/2018 7:42</td>\n",
       "      <td>295</td>\n",
       "      <td>453</td>\n",
       "      <td>53</td>\n",
       "      <td>260</td>\n",
       "      <td>32</td>\n",
       "      <td>1</td>\n",
       "      <td>1</td>\n",
       "      <td>0</td>\n",
       "      <td>1</td>\n",
       "      <td>NaN</td>\n",
       "      <td>NaN</td>\n",
       "      <td>NaN</td>\n",
       "      <td>NaN</td>\n",
       "    </tr>\n",
       "    <tr>\n",
       "      <th>8</th>\n",
       "      <td>246675545449582_1644655795651543</td>\n",
       "      <td>photo</td>\n",
       "      <td>4/17/2018 3:33</td>\n",
       "      <td>203</td>\n",
       "      <td>1</td>\n",
       "      <td>0</td>\n",
       "      <td>198</td>\n",
       "      <td>5</td>\n",
       "      <td>0</td>\n",
       "      <td>0</td>\n",
       "      <td>0</td>\n",
       "      <td>0</td>\n",
       "      <td>NaN</td>\n",
       "      <td>NaN</td>\n",
       "      <td>NaN</td>\n",
       "      <td>NaN</td>\n",
       "    </tr>\n",
       "    <tr>\n",
       "      <th>9</th>\n",
       "      <td>246675545449582_1638788379571618</td>\n",
       "      <td>photo</td>\n",
       "      <td>4/11/2018 4:53</td>\n",
       "      <td>170</td>\n",
       "      <td>9</td>\n",
       "      <td>1</td>\n",
       "      <td>167</td>\n",
       "      <td>3</td>\n",
       "      <td>0</td>\n",
       "      <td>0</td>\n",
       "      <td>0</td>\n",
       "      <td>0</td>\n",
       "      <td>NaN</td>\n",
       "      <td>NaN</td>\n",
       "      <td>NaN</td>\n",
       "      <td>NaN</td>\n",
       "    </tr>\n",
       "  </tbody>\n",
       "</table>\n",
       "</div>"
      ],
      "text/plain": [
       "                          status_id status_type status_published  \\\n",
       "0  246675545449582_1649696485147474       video   4/22/2018 6:00   \n",
       "1  246675545449582_1649426988507757       photo  4/21/2018 22:45   \n",
       "2  246675545449582_1648730588577397       video   4/21/2018 6:17   \n",
       "3  246675545449582_1648576705259452       photo   4/21/2018 2:29   \n",
       "4  246675545449582_1645700502213739       photo   4/18/2018 3:22   \n",
       "5  246675545449582_1645650162218773       photo   4/18/2018 2:14   \n",
       "6  246675545449582_1645564175560705       video   4/18/2018 0:24   \n",
       "7  246675545449582_1644824665634656       video   4/17/2018 7:42   \n",
       "8  246675545449582_1644655795651543       photo   4/17/2018 3:33   \n",
       "9  246675545449582_1638788379571618       photo   4/11/2018 4:53   \n",
       "\n",
       "   num_reactions  num_comments  num_shares  num_likes  num_loves  num_wows  \\\n",
       "0            529           512         262        432         92         3   \n",
       "1            150             0           0        150          0         0   \n",
       "2            227           236          57        204         21         1   \n",
       "3            111             0           0        111          0         0   \n",
       "4            213             0           0        204          9         0   \n",
       "5            217             6           0        211          5         1   \n",
       "6            503           614          72        418         70        10   \n",
       "7            295           453          53        260         32         1   \n",
       "8            203             1           0        198          5         0   \n",
       "9            170             9           1        167          3         0   \n",
       "\n",
       "   num_hahas  num_sads  num_angrys  Column1  Column2  Column3  Column4  \n",
       "0          1         1           0      NaN      NaN      NaN      NaN  \n",
       "1          0         0           0      NaN      NaN      NaN      NaN  \n",
       "2          1         0           0      NaN      NaN      NaN      NaN  \n",
       "3          0         0           0      NaN      NaN      NaN      NaN  \n",
       "4          0         0           0      NaN      NaN      NaN      NaN  \n",
       "5          0         0           0      NaN      NaN      NaN      NaN  \n",
       "6          2         0           3      NaN      NaN      NaN      NaN  \n",
       "7          1         0           1      NaN      NaN      NaN      NaN  \n",
       "8          0         0           0      NaN      NaN      NaN      NaN  \n",
       "9          0         0           0      NaN      NaN      NaN      NaN  "
      ]
     },
     "execution_count": 98,
     "metadata": {},
     "output_type": "execute_result"
    }
   ],
   "source": [
    "#导入数据集\n",
    "data = '.\\datasets\\Live.csv'\n",
    "df = pd.read_csv(data)\n",
    "\n",
    "df[:10]"
   ]
  },
  {
   "cell_type": "markdown",
   "id": "4f597cfc",
   "metadata": {},
   "source": [
    "#### 检查数据集"
   ]
  },
  {
   "cell_type": "code",
   "execution_count": 99,
   "id": "5af006e8",
   "metadata": {},
   "outputs": [
    {
     "data": {
      "text/plain": [
       "(7050, 16)"
      ]
     },
     "execution_count": 99,
     "metadata": {},
     "output_type": "execute_result"
    }
   ],
   "source": [
    "df.shape\n",
    "#可以看到有7050个样本，16个特征"
   ]
  },
  {
   "cell_type": "code",
   "execution_count": 100,
   "id": "a2700c65",
   "metadata": {},
   "outputs": [
    {
     "data": {
      "text/html": [
       "<div>\n",
       "<style scoped>\n",
       "    .dataframe tbody tr th:only-of-type {\n",
       "        vertical-align: middle;\n",
       "    }\n",
       "\n",
       "    .dataframe tbody tr th {\n",
       "        vertical-align: top;\n",
       "    }\n",
       "\n",
       "    .dataframe thead th {\n",
       "        text-align: right;\n",
       "    }\n",
       "</style>\n",
       "<table border=\"1\" class=\"dataframe\">\n",
       "  <thead>\n",
       "    <tr style=\"text-align: right;\">\n",
       "      <th></th>\n",
       "      <th>status_id</th>\n",
       "      <th>status_type</th>\n",
       "      <th>status_published</th>\n",
       "      <th>num_reactions</th>\n",
       "      <th>num_comments</th>\n",
       "      <th>num_shares</th>\n",
       "      <th>num_likes</th>\n",
       "      <th>num_loves</th>\n",
       "      <th>num_wows</th>\n",
       "      <th>num_hahas</th>\n",
       "      <th>num_sads</th>\n",
       "      <th>num_angrys</th>\n",
       "      <th>Column1</th>\n",
       "      <th>Column2</th>\n",
       "      <th>Column3</th>\n",
       "      <th>Column4</th>\n",
       "    </tr>\n",
       "  </thead>\n",
       "  <tbody>\n",
       "    <tr>\n",
       "      <th>0</th>\n",
       "      <td>246675545449582_1649696485147474</td>\n",
       "      <td>video</td>\n",
       "      <td>4/22/2018 6:00</td>\n",
       "      <td>529</td>\n",
       "      <td>512</td>\n",
       "      <td>262</td>\n",
       "      <td>432</td>\n",
       "      <td>92</td>\n",
       "      <td>3</td>\n",
       "      <td>1</td>\n",
       "      <td>1</td>\n",
       "      <td>0</td>\n",
       "      <td>NaN</td>\n",
       "      <td>NaN</td>\n",
       "      <td>NaN</td>\n",
       "      <td>NaN</td>\n",
       "    </tr>\n",
       "    <tr>\n",
       "      <th>1</th>\n",
       "      <td>246675545449582_1649426988507757</td>\n",
       "      <td>photo</td>\n",
       "      <td>4/21/2018 22:45</td>\n",
       "      <td>150</td>\n",
       "      <td>0</td>\n",
       "      <td>0</td>\n",
       "      <td>150</td>\n",
       "      <td>0</td>\n",
       "      <td>0</td>\n",
       "      <td>0</td>\n",
       "      <td>0</td>\n",
       "      <td>0</td>\n",
       "      <td>NaN</td>\n",
       "      <td>NaN</td>\n",
       "      <td>NaN</td>\n",
       "      <td>NaN</td>\n",
       "    </tr>\n",
       "    <tr>\n",
       "      <th>2</th>\n",
       "      <td>246675545449582_1648730588577397</td>\n",
       "      <td>video</td>\n",
       "      <td>4/21/2018 6:17</td>\n",
       "      <td>227</td>\n",
       "      <td>236</td>\n",
       "      <td>57</td>\n",
       "      <td>204</td>\n",
       "      <td>21</td>\n",
       "      <td>1</td>\n",
       "      <td>1</td>\n",
       "      <td>0</td>\n",
       "      <td>0</td>\n",
       "      <td>NaN</td>\n",
       "      <td>NaN</td>\n",
       "      <td>NaN</td>\n",
       "      <td>NaN</td>\n",
       "    </tr>\n",
       "    <tr>\n",
       "      <th>3</th>\n",
       "      <td>246675545449582_1648576705259452</td>\n",
       "      <td>photo</td>\n",
       "      <td>4/21/2018 2:29</td>\n",
       "      <td>111</td>\n",
       "      <td>0</td>\n",
       "      <td>0</td>\n",
       "      <td>111</td>\n",
       "      <td>0</td>\n",
       "      <td>0</td>\n",
       "      <td>0</td>\n",
       "      <td>0</td>\n",
       "      <td>0</td>\n",
       "      <td>NaN</td>\n",
       "      <td>NaN</td>\n",
       "      <td>NaN</td>\n",
       "      <td>NaN</td>\n",
       "    </tr>\n",
       "    <tr>\n",
       "      <th>4</th>\n",
       "      <td>246675545449582_1645700502213739</td>\n",
       "      <td>photo</td>\n",
       "      <td>4/18/2018 3:22</td>\n",
       "      <td>213</td>\n",
       "      <td>0</td>\n",
       "      <td>0</td>\n",
       "      <td>204</td>\n",
       "      <td>9</td>\n",
       "      <td>0</td>\n",
       "      <td>0</td>\n",
       "      <td>0</td>\n",
       "      <td>0</td>\n",
       "      <td>NaN</td>\n",
       "      <td>NaN</td>\n",
       "      <td>NaN</td>\n",
       "      <td>NaN</td>\n",
       "    </tr>\n",
       "  </tbody>\n",
       "</table>\n",
       "</div>"
      ],
      "text/plain": [
       "                          status_id status_type status_published  \\\n",
       "0  246675545449582_1649696485147474       video   4/22/2018 6:00   \n",
       "1  246675545449582_1649426988507757       photo  4/21/2018 22:45   \n",
       "2  246675545449582_1648730588577397       video   4/21/2018 6:17   \n",
       "3  246675545449582_1648576705259452       photo   4/21/2018 2:29   \n",
       "4  246675545449582_1645700502213739       photo   4/18/2018 3:22   \n",
       "\n",
       "   num_reactions  num_comments  num_shares  num_likes  num_loves  num_wows  \\\n",
       "0            529           512         262        432         92         3   \n",
       "1            150             0           0        150          0         0   \n",
       "2            227           236          57        204         21         1   \n",
       "3            111             0           0        111          0         0   \n",
       "4            213             0           0        204          9         0   \n",
       "\n",
       "   num_hahas  num_sads  num_angrys  Column1  Column2  Column3  Column4  \n",
       "0          1         1           0      NaN      NaN      NaN      NaN  \n",
       "1          0         0           0      NaN      NaN      NaN      NaN  \n",
       "2          1         0           0      NaN      NaN      NaN      NaN  \n",
       "3          0         0           0      NaN      NaN      NaN      NaN  \n",
       "4          0         0           0      NaN      NaN      NaN      NaN  "
      ]
     },
     "execution_count": 100,
     "metadata": {},
     "output_type": "execute_result"
    }
   ],
   "source": [
    "df.head()\n",
    "#df.head()用来显示头几个数据"
   ]
  },
  {
   "cell_type": "code",
   "execution_count": 101,
   "id": "632f00cc",
   "metadata": {},
   "outputs": [
    {
     "name": "stdout",
     "output_type": "stream",
     "text": [
      "<class 'pandas.core.frame.DataFrame'>\n",
      "RangeIndex: 7050 entries, 0 to 7049\n",
      "Data columns (total 16 columns):\n",
      " #   Column            Non-Null Count  Dtype  \n",
      "---  ------            --------------  -----  \n",
      " 0   status_id         7050 non-null   object \n",
      " 1   status_type       7050 non-null   object \n",
      " 2   status_published  7050 non-null   object \n",
      " 3   num_reactions     7050 non-null   int64  \n",
      " 4   num_comments      7050 non-null   int64  \n",
      " 5   num_shares        7050 non-null   int64  \n",
      " 6   num_likes         7050 non-null   int64  \n",
      " 7   num_loves         7050 non-null   int64  \n",
      " 8   num_wows          7050 non-null   int64  \n",
      " 9   num_hahas         7050 non-null   int64  \n",
      " 10  num_sads          7050 non-null   int64  \n",
      " 11  num_angrys        7050 non-null   int64  \n",
      " 12  Column1           0 non-null      float64\n",
      " 13  Column2           0 non-null      float64\n",
      " 14  Column3           0 non-null      float64\n",
      " 15  Column4           0 non-null      float64\n",
      "dtypes: float64(4), int64(9), object(3)\n",
      "memory usage: 881.4+ KB\n"
     ]
    }
   ],
   "source": [
    "# 总览数据\n",
    "df.info()"
   ]
  },
  {
   "cell_type": "code",
   "execution_count": 102,
   "id": "d1421500",
   "metadata": {},
   "outputs": [
    {
     "data": {
      "text/html": [
       "<div>\n",
       "<style scoped>\n",
       "    .dataframe tbody tr th:only-of-type {\n",
       "        vertical-align: middle;\n",
       "    }\n",
       "\n",
       "    .dataframe tbody tr th {\n",
       "        vertical-align: top;\n",
       "    }\n",
       "\n",
       "    .dataframe thead th {\n",
       "        text-align: right;\n",
       "    }\n",
       "</style>\n",
       "<table border=\"1\" class=\"dataframe\">\n",
       "  <thead>\n",
       "    <tr style=\"text-align: right;\">\n",
       "      <th></th>\n",
       "      <th>status_id</th>\n",
       "      <th>status_type</th>\n",
       "      <th>status_published</th>\n",
       "      <th>num_reactions</th>\n",
       "      <th>num_comments</th>\n",
       "      <th>num_shares</th>\n",
       "      <th>num_likes</th>\n",
       "      <th>num_loves</th>\n",
       "      <th>num_wows</th>\n",
       "      <th>num_hahas</th>\n",
       "      <th>num_sads</th>\n",
       "      <th>num_angrys</th>\n",
       "      <th>Column1</th>\n",
       "      <th>Column2</th>\n",
       "      <th>Column3</th>\n",
       "      <th>Column4</th>\n",
       "    </tr>\n",
       "  </thead>\n",
       "  <tbody>\n",
       "    <tr>\n",
       "      <th>0</th>\n",
       "      <td>False</td>\n",
       "      <td>False</td>\n",
       "      <td>False</td>\n",
       "      <td>False</td>\n",
       "      <td>False</td>\n",
       "      <td>False</td>\n",
       "      <td>False</td>\n",
       "      <td>False</td>\n",
       "      <td>False</td>\n",
       "      <td>False</td>\n",
       "      <td>False</td>\n",
       "      <td>False</td>\n",
       "      <td>True</td>\n",
       "      <td>True</td>\n",
       "      <td>True</td>\n",
       "      <td>True</td>\n",
       "    </tr>\n",
       "    <tr>\n",
       "      <th>1</th>\n",
       "      <td>False</td>\n",
       "      <td>False</td>\n",
       "      <td>False</td>\n",
       "      <td>False</td>\n",
       "      <td>False</td>\n",
       "      <td>False</td>\n",
       "      <td>False</td>\n",
       "      <td>False</td>\n",
       "      <td>False</td>\n",
       "      <td>False</td>\n",
       "      <td>False</td>\n",
       "      <td>False</td>\n",
       "      <td>True</td>\n",
       "      <td>True</td>\n",
       "      <td>True</td>\n",
       "      <td>True</td>\n",
       "    </tr>\n",
       "    <tr>\n",
       "      <th>2</th>\n",
       "      <td>False</td>\n",
       "      <td>False</td>\n",
       "      <td>False</td>\n",
       "      <td>False</td>\n",
       "      <td>False</td>\n",
       "      <td>False</td>\n",
       "      <td>False</td>\n",
       "      <td>False</td>\n",
       "      <td>False</td>\n",
       "      <td>False</td>\n",
       "      <td>False</td>\n",
       "      <td>False</td>\n",
       "      <td>True</td>\n",
       "      <td>True</td>\n",
       "      <td>True</td>\n",
       "      <td>True</td>\n",
       "    </tr>\n",
       "    <tr>\n",
       "      <th>3</th>\n",
       "      <td>False</td>\n",
       "      <td>False</td>\n",
       "      <td>False</td>\n",
       "      <td>False</td>\n",
       "      <td>False</td>\n",
       "      <td>False</td>\n",
       "      <td>False</td>\n",
       "      <td>False</td>\n",
       "      <td>False</td>\n",
       "      <td>False</td>\n",
       "      <td>False</td>\n",
       "      <td>False</td>\n",
       "      <td>True</td>\n",
       "      <td>True</td>\n",
       "      <td>True</td>\n",
       "      <td>True</td>\n",
       "    </tr>\n",
       "    <tr>\n",
       "      <th>4</th>\n",
       "      <td>False</td>\n",
       "      <td>False</td>\n",
       "      <td>False</td>\n",
       "      <td>False</td>\n",
       "      <td>False</td>\n",
       "      <td>False</td>\n",
       "      <td>False</td>\n",
       "      <td>False</td>\n",
       "      <td>False</td>\n",
       "      <td>False</td>\n",
       "      <td>False</td>\n",
       "      <td>False</td>\n",
       "      <td>True</td>\n",
       "      <td>True</td>\n",
       "      <td>True</td>\n",
       "      <td>True</td>\n",
       "    </tr>\n",
       "    <tr>\n",
       "      <th>...</th>\n",
       "      <td>...</td>\n",
       "      <td>...</td>\n",
       "      <td>...</td>\n",
       "      <td>...</td>\n",
       "      <td>...</td>\n",
       "      <td>...</td>\n",
       "      <td>...</td>\n",
       "      <td>...</td>\n",
       "      <td>...</td>\n",
       "      <td>...</td>\n",
       "      <td>...</td>\n",
       "      <td>...</td>\n",
       "      <td>...</td>\n",
       "      <td>...</td>\n",
       "      <td>...</td>\n",
       "      <td>...</td>\n",
       "    </tr>\n",
       "    <tr>\n",
       "      <th>7045</th>\n",
       "      <td>False</td>\n",
       "      <td>False</td>\n",
       "      <td>False</td>\n",
       "      <td>False</td>\n",
       "      <td>False</td>\n",
       "      <td>False</td>\n",
       "      <td>False</td>\n",
       "      <td>False</td>\n",
       "      <td>False</td>\n",
       "      <td>False</td>\n",
       "      <td>False</td>\n",
       "      <td>False</td>\n",
       "      <td>True</td>\n",
       "      <td>True</td>\n",
       "      <td>True</td>\n",
       "      <td>True</td>\n",
       "    </tr>\n",
       "    <tr>\n",
       "      <th>7046</th>\n",
       "      <td>False</td>\n",
       "      <td>False</td>\n",
       "      <td>False</td>\n",
       "      <td>False</td>\n",
       "      <td>False</td>\n",
       "      <td>False</td>\n",
       "      <td>False</td>\n",
       "      <td>False</td>\n",
       "      <td>False</td>\n",
       "      <td>False</td>\n",
       "      <td>False</td>\n",
       "      <td>False</td>\n",
       "      <td>True</td>\n",
       "      <td>True</td>\n",
       "      <td>True</td>\n",
       "      <td>True</td>\n",
       "    </tr>\n",
       "    <tr>\n",
       "      <th>7047</th>\n",
       "      <td>False</td>\n",
       "      <td>False</td>\n",
       "      <td>False</td>\n",
       "      <td>False</td>\n",
       "      <td>False</td>\n",
       "      <td>False</td>\n",
       "      <td>False</td>\n",
       "      <td>False</td>\n",
       "      <td>False</td>\n",
       "      <td>False</td>\n",
       "      <td>False</td>\n",
       "      <td>False</td>\n",
       "      <td>True</td>\n",
       "      <td>True</td>\n",
       "      <td>True</td>\n",
       "      <td>True</td>\n",
       "    </tr>\n",
       "    <tr>\n",
       "      <th>7048</th>\n",
       "      <td>False</td>\n",
       "      <td>False</td>\n",
       "      <td>False</td>\n",
       "      <td>False</td>\n",
       "      <td>False</td>\n",
       "      <td>False</td>\n",
       "      <td>False</td>\n",
       "      <td>False</td>\n",
       "      <td>False</td>\n",
       "      <td>False</td>\n",
       "      <td>False</td>\n",
       "      <td>False</td>\n",
       "      <td>True</td>\n",
       "      <td>True</td>\n",
       "      <td>True</td>\n",
       "      <td>True</td>\n",
       "    </tr>\n",
       "    <tr>\n",
       "      <th>7049</th>\n",
       "      <td>False</td>\n",
       "      <td>False</td>\n",
       "      <td>False</td>\n",
       "      <td>False</td>\n",
       "      <td>False</td>\n",
       "      <td>False</td>\n",
       "      <td>False</td>\n",
       "      <td>False</td>\n",
       "      <td>False</td>\n",
       "      <td>False</td>\n",
       "      <td>False</td>\n",
       "      <td>False</td>\n",
       "      <td>True</td>\n",
       "      <td>True</td>\n",
       "      <td>True</td>\n",
       "      <td>True</td>\n",
       "    </tr>\n",
       "  </tbody>\n",
       "</table>\n",
       "<p>7050 rows × 16 columns</p>\n",
       "</div>"
      ],
      "text/plain": [
       "      status_id  status_type  status_published  num_reactions  num_comments  \\\n",
       "0         False        False             False          False         False   \n",
       "1         False        False             False          False         False   \n",
       "2         False        False             False          False         False   \n",
       "3         False        False             False          False         False   \n",
       "4         False        False             False          False         False   \n",
       "...         ...          ...               ...            ...           ...   \n",
       "7045      False        False             False          False         False   \n",
       "7046      False        False             False          False         False   \n",
       "7047      False        False             False          False         False   \n",
       "7048      False        False             False          False         False   \n",
       "7049      False        False             False          False         False   \n",
       "\n",
       "      num_shares  num_likes  num_loves  num_wows  num_hahas  num_sads  \\\n",
       "0          False      False      False     False      False     False   \n",
       "1          False      False      False     False      False     False   \n",
       "2          False      False      False     False      False     False   \n",
       "3          False      False      False     False      False     False   \n",
       "4          False      False      False     False      False     False   \n",
       "...          ...        ...        ...       ...        ...       ...   \n",
       "7045       False      False      False     False      False     False   \n",
       "7046       False      False      False     False      False     False   \n",
       "7047       False      False      False     False      False     False   \n",
       "7048       False      False      False     False      False     False   \n",
       "7049       False      False      False     False      False     False   \n",
       "\n",
       "      num_angrys  Column1  Column2  Column3  Column4  \n",
       "0          False     True     True     True     True  \n",
       "1          False     True     True     True     True  \n",
       "2          False     True     True     True     True  \n",
       "3          False     True     True     True     True  \n",
       "4          False     True     True     True     True  \n",
       "...          ...      ...      ...      ...      ...  \n",
       "7045       False     True     True     True     True  \n",
       "7046       False     True     True     True     True  \n",
       "7047       False     True     True     True     True  \n",
       "7048       False     True     True     True     True  \n",
       "7049       False     True     True     True     True  \n",
       "\n",
       "[7050 rows x 16 columns]"
      ]
     },
     "execution_count": 102,
     "metadata": {},
     "output_type": "execute_result"
    }
   ],
   "source": [
    "#可以看到后四列都是无效列\n",
    "df.isnull()"
   ]
  },
  {
   "cell_type": "code",
   "execution_count": 103,
   "id": "1f4db747",
   "metadata": {},
   "outputs": [
    {
     "data": {
      "text/plain": [
       "status_id              0\n",
       "status_type            0\n",
       "status_published       0\n",
       "num_reactions          0\n",
       "num_comments           0\n",
       "num_shares             0\n",
       "num_likes              0\n",
       "num_loves              0\n",
       "num_wows               0\n",
       "num_hahas              0\n",
       "num_sads               0\n",
       "num_angrys             0\n",
       "Column1             7050\n",
       "Column2             7050\n",
       "Column3             7050\n",
       "Column4             7050\n",
       "dtype: int64"
      ]
     },
     "execution_count": 103,
     "metadata": {},
     "output_type": "execute_result"
    }
   ],
   "source": [
    "df.isnull().sum()"
   ]
  },
  {
   "cell_type": "code",
   "execution_count": 104,
   "id": "c6bb5eec",
   "metadata": {},
   "outputs": [],
   "source": [
    "# 删除冗余列\n",
    "df.drop(['Column1', 'Column2', 'Column3', 'Column4'], axis=1, inplace=True)\n",
    "# 第一个参数是一个列表，表示索引个，axis=1表示在第一个维度（这里是列维度）操作，inplace=True表示即刻生效"
   ]
  },
  {
   "cell_type": "code",
   "execution_count": 105,
   "id": "30913dbc",
   "metadata": {},
   "outputs": [
    {
     "name": "stdout",
     "output_type": "stream",
     "text": [
      "<class 'pandas.core.frame.DataFrame'>\n",
      "RangeIndex: 7050 entries, 0 to 7049\n",
      "Data columns (total 12 columns):\n",
      " #   Column            Non-Null Count  Dtype \n",
      "---  ------            --------------  ----- \n",
      " 0   status_id         7050 non-null   object\n",
      " 1   status_type       7050 non-null   object\n",
      " 2   status_published  7050 non-null   object\n",
      " 3   num_reactions     7050 non-null   int64 \n",
      " 4   num_comments      7050 non-null   int64 \n",
      " 5   num_shares        7050 non-null   int64 \n",
      " 6   num_likes         7050 non-null   int64 \n",
      " 7   num_loves         7050 non-null   int64 \n",
      " 8   num_wows          7050 non-null   int64 \n",
      " 9   num_hahas         7050 non-null   int64 \n",
      " 10  num_sads          7050 non-null   int64 \n",
      " 11  num_angrys        7050 non-null   int64 \n",
      "dtypes: int64(9), object(3)\n",
      "memory usage: 661.1+ KB\n"
     ]
    }
   ],
   "source": [
    "# 删除后查看信息\n",
    "df.info()"
   ]
  },
  {
   "cell_type": "code",
   "execution_count": 106,
   "id": "acbf97fd",
   "metadata": {},
   "outputs": [
    {
     "data": {
      "text/html": [
       "<div>\n",
       "<style scoped>\n",
       "    .dataframe tbody tr th:only-of-type {\n",
       "        vertical-align: middle;\n",
       "    }\n",
       "\n",
       "    .dataframe tbody tr th {\n",
       "        vertical-align: top;\n",
       "    }\n",
       "\n",
       "    .dataframe thead th {\n",
       "        text-align: right;\n",
       "    }\n",
       "</style>\n",
       "<table border=\"1\" class=\"dataframe\">\n",
       "  <thead>\n",
       "    <tr style=\"text-align: right;\">\n",
       "      <th></th>\n",
       "      <th>num_reactions</th>\n",
       "      <th>num_comments</th>\n",
       "      <th>num_shares</th>\n",
       "      <th>num_likes</th>\n",
       "      <th>num_loves</th>\n",
       "      <th>num_wows</th>\n",
       "      <th>num_hahas</th>\n",
       "      <th>num_sads</th>\n",
       "      <th>num_angrys</th>\n",
       "    </tr>\n",
       "  </thead>\n",
       "  <tbody>\n",
       "    <tr>\n",
       "      <th>count</th>\n",
       "      <td>7050.000000</td>\n",
       "      <td>7050.000000</td>\n",
       "      <td>7050.000000</td>\n",
       "      <td>7050.000000</td>\n",
       "      <td>7050.000000</td>\n",
       "      <td>7050.000000</td>\n",
       "      <td>7050.000000</td>\n",
       "      <td>7050.000000</td>\n",
       "      <td>7050.000000</td>\n",
       "    </tr>\n",
       "    <tr>\n",
       "      <th>mean</th>\n",
       "      <td>230.117163</td>\n",
       "      <td>224.356028</td>\n",
       "      <td>40.022553</td>\n",
       "      <td>215.043121</td>\n",
       "      <td>12.728652</td>\n",
       "      <td>1.289362</td>\n",
       "      <td>0.696454</td>\n",
       "      <td>0.243688</td>\n",
       "      <td>0.113191</td>\n",
       "    </tr>\n",
       "    <tr>\n",
       "      <th>std</th>\n",
       "      <td>462.625309</td>\n",
       "      <td>889.636820</td>\n",
       "      <td>131.599965</td>\n",
       "      <td>449.472357</td>\n",
       "      <td>39.972930</td>\n",
       "      <td>8.719650</td>\n",
       "      <td>3.957183</td>\n",
       "      <td>1.597156</td>\n",
       "      <td>0.726812</td>\n",
       "    </tr>\n",
       "    <tr>\n",
       "      <th>min</th>\n",
       "      <td>0.000000</td>\n",
       "      <td>0.000000</td>\n",
       "      <td>0.000000</td>\n",
       "      <td>0.000000</td>\n",
       "      <td>0.000000</td>\n",
       "      <td>0.000000</td>\n",
       "      <td>0.000000</td>\n",
       "      <td>0.000000</td>\n",
       "      <td>0.000000</td>\n",
       "    </tr>\n",
       "    <tr>\n",
       "      <th>25%</th>\n",
       "      <td>17.000000</td>\n",
       "      <td>0.000000</td>\n",
       "      <td>0.000000</td>\n",
       "      <td>17.000000</td>\n",
       "      <td>0.000000</td>\n",
       "      <td>0.000000</td>\n",
       "      <td>0.000000</td>\n",
       "      <td>0.000000</td>\n",
       "      <td>0.000000</td>\n",
       "    </tr>\n",
       "    <tr>\n",
       "      <th>50%</th>\n",
       "      <td>59.500000</td>\n",
       "      <td>4.000000</td>\n",
       "      <td>0.000000</td>\n",
       "      <td>58.000000</td>\n",
       "      <td>0.000000</td>\n",
       "      <td>0.000000</td>\n",
       "      <td>0.000000</td>\n",
       "      <td>0.000000</td>\n",
       "      <td>0.000000</td>\n",
       "    </tr>\n",
       "    <tr>\n",
       "      <th>75%</th>\n",
       "      <td>219.000000</td>\n",
       "      <td>23.000000</td>\n",
       "      <td>4.000000</td>\n",
       "      <td>184.750000</td>\n",
       "      <td>3.000000</td>\n",
       "      <td>0.000000</td>\n",
       "      <td>0.000000</td>\n",
       "      <td>0.000000</td>\n",
       "      <td>0.000000</td>\n",
       "    </tr>\n",
       "    <tr>\n",
       "      <th>max</th>\n",
       "      <td>4710.000000</td>\n",
       "      <td>20990.000000</td>\n",
       "      <td>3424.000000</td>\n",
       "      <td>4710.000000</td>\n",
       "      <td>657.000000</td>\n",
       "      <td>278.000000</td>\n",
       "      <td>157.000000</td>\n",
       "      <td>51.000000</td>\n",
       "      <td>31.000000</td>\n",
       "    </tr>\n",
       "  </tbody>\n",
       "</table>\n",
       "</div>"
      ],
      "text/plain": [
       "       num_reactions  num_comments   num_shares    num_likes    num_loves  \\\n",
       "count    7050.000000   7050.000000  7050.000000  7050.000000  7050.000000   \n",
       "mean      230.117163    224.356028    40.022553   215.043121    12.728652   \n",
       "std       462.625309    889.636820   131.599965   449.472357    39.972930   \n",
       "min         0.000000      0.000000     0.000000     0.000000     0.000000   \n",
       "25%        17.000000      0.000000     0.000000    17.000000     0.000000   \n",
       "50%        59.500000      4.000000     0.000000    58.000000     0.000000   \n",
       "75%       219.000000     23.000000     4.000000   184.750000     3.000000   \n",
       "max      4710.000000  20990.000000  3424.000000  4710.000000   657.000000   \n",
       "\n",
       "          num_wows    num_hahas     num_sads   num_angrys  \n",
       "count  7050.000000  7050.000000  7050.000000  7050.000000  \n",
       "mean      1.289362     0.696454     0.243688     0.113191  \n",
       "std       8.719650     3.957183     1.597156     0.726812  \n",
       "min       0.000000     0.000000     0.000000     0.000000  \n",
       "25%       0.000000     0.000000     0.000000     0.000000  \n",
       "50%       0.000000     0.000000     0.000000     0.000000  \n",
       "75%       0.000000     0.000000     0.000000     0.000000  \n",
       "max     278.000000   157.000000    51.000000    31.000000  "
      ]
     },
     "execution_count": 106,
     "metadata": {},
     "output_type": "execute_result"
    }
   ],
   "source": [
    "df.describe()"
   ]
  },
  {
   "cell_type": "code",
   "execution_count": 107,
   "id": "93618f6b",
   "metadata": {},
   "outputs": [
    {
     "data": {
      "text/plain": [
       "6997"
      ]
     },
     "execution_count": 107,
     "metadata": {},
     "output_type": "execute_result"
    }
   ],
   "source": [
    "# 识别标志性的变量\n",
    "# 即表示某些物品的唯一标识，这些往往不用来作为分类的依据\n",
    "len(df['status_id'].unique())\n",
    "# 以status_id为例，其独特的数量有近7000个，可以说基本都是标识，所以我们要删去这个特征"
   ]
  },
  {
   "cell_type": "code",
   "execution_count": 108,
   "id": "593be395",
   "metadata": {},
   "outputs": [
    {
     "name": "stdout",
     "output_type": "stream",
     "text": [
      "status_id:6997\n",
      "status_type:4\n",
      "status_published:6913\n",
      "num_reactions:1067\n",
      "num_comments:993\n",
      "num_shares:501\n",
      "num_likes:1044\n",
      "num_loves:229\n",
      "num_wows:65\n",
      "num_hahas:42\n",
      "num_sads:24\n",
      "num_angrys:14\n"
     ]
    }
   ],
   "source": [
    "column_list=df.columns.tolist()\n",
    "for column in column_list:\n",
    "    print(f'{column}:{len(df[column].unique())}')"
   ]
  },
  {
   "cell_type": "code",
   "execution_count": 109,
   "id": "cf59362f",
   "metadata": {},
   "outputs": [],
   "source": [
    "# 可以看出我们需要删除status_id和status_published这两个特征\n",
    "df.drop(['status_id', 'status_published'], axis=1, inplace=True)"
   ]
  },
  {
   "cell_type": "code",
   "execution_count": 110,
   "id": "557c643a",
   "metadata": {},
   "outputs": [
    {
     "data": {
      "text/html": [
       "<div>\n",
       "<style scoped>\n",
       "    .dataframe tbody tr th:only-of-type {\n",
       "        vertical-align: middle;\n",
       "    }\n",
       "\n",
       "    .dataframe tbody tr th {\n",
       "        vertical-align: top;\n",
       "    }\n",
       "\n",
       "    .dataframe thead th {\n",
       "        text-align: right;\n",
       "    }\n",
       "</style>\n",
       "<table border=\"1\" class=\"dataframe\">\n",
       "  <thead>\n",
       "    <tr style=\"text-align: right;\">\n",
       "      <th></th>\n",
       "      <th>status_type</th>\n",
       "      <th>num_reactions</th>\n",
       "      <th>num_comments</th>\n",
       "      <th>num_shares</th>\n",
       "      <th>num_likes</th>\n",
       "      <th>num_loves</th>\n",
       "      <th>num_wows</th>\n",
       "      <th>num_hahas</th>\n",
       "      <th>num_sads</th>\n",
       "      <th>num_angrys</th>\n",
       "    </tr>\n",
       "  </thead>\n",
       "  <tbody>\n",
       "    <tr>\n",
       "      <th>0</th>\n",
       "      <td>video</td>\n",
       "      <td>529</td>\n",
       "      <td>512</td>\n",
       "      <td>262</td>\n",
       "      <td>432</td>\n",
       "      <td>92</td>\n",
       "      <td>3</td>\n",
       "      <td>1</td>\n",
       "      <td>1</td>\n",
       "      <td>0</td>\n",
       "    </tr>\n",
       "    <tr>\n",
       "      <th>1</th>\n",
       "      <td>photo</td>\n",
       "      <td>150</td>\n",
       "      <td>0</td>\n",
       "      <td>0</td>\n",
       "      <td>150</td>\n",
       "      <td>0</td>\n",
       "      <td>0</td>\n",
       "      <td>0</td>\n",
       "      <td>0</td>\n",
       "      <td>0</td>\n",
       "    </tr>\n",
       "    <tr>\n",
       "      <th>2</th>\n",
       "      <td>video</td>\n",
       "      <td>227</td>\n",
       "      <td>236</td>\n",
       "      <td>57</td>\n",
       "      <td>204</td>\n",
       "      <td>21</td>\n",
       "      <td>1</td>\n",
       "      <td>1</td>\n",
       "      <td>0</td>\n",
       "      <td>0</td>\n",
       "    </tr>\n",
       "    <tr>\n",
       "      <th>3</th>\n",
       "      <td>photo</td>\n",
       "      <td>111</td>\n",
       "      <td>0</td>\n",
       "      <td>0</td>\n",
       "      <td>111</td>\n",
       "      <td>0</td>\n",
       "      <td>0</td>\n",
       "      <td>0</td>\n",
       "      <td>0</td>\n",
       "      <td>0</td>\n",
       "    </tr>\n",
       "    <tr>\n",
       "      <th>4</th>\n",
       "      <td>photo</td>\n",
       "      <td>213</td>\n",
       "      <td>0</td>\n",
       "      <td>0</td>\n",
       "      <td>204</td>\n",
       "      <td>9</td>\n",
       "      <td>0</td>\n",
       "      <td>0</td>\n",
       "      <td>0</td>\n",
       "      <td>0</td>\n",
       "    </tr>\n",
       "  </tbody>\n",
       "</table>\n",
       "</div>"
      ],
      "text/plain": [
       "  status_type  num_reactions  num_comments  num_shares  num_likes  num_loves  \\\n",
       "0       video            529           512         262        432         92   \n",
       "1       photo            150             0           0        150          0   \n",
       "2       video            227           236          57        204         21   \n",
       "3       photo            111             0           0        111          0   \n",
       "4       photo            213             0           0        204          9   \n",
       "\n",
       "   num_wows  num_hahas  num_sads  num_angrys  \n",
       "0         3          1         1           0  \n",
       "1         0          0         0           0  \n",
       "2         1          1         0           0  \n",
       "3         0          0         0           0  \n",
       "4         0          0         0           0  "
      ]
     },
     "execution_count": 110,
     "metadata": {},
     "output_type": "execute_result"
    }
   ],
   "source": [
    "df.head()"
   ]
  },
  {
   "cell_type": "markdown",
   "id": "371b17c3",
   "metadata": {},
   "source": [
    "#### 声明特征向量和目标变量\n",
    "这里我们以一个样本的特征向量为依据对其进行聚类，目标变量即最后得到的分类"
   ]
  },
  {
   "cell_type": "code",
   "execution_count": 111,
   "id": "eeed0280",
   "metadata": {},
   "outputs": [],
   "source": [
    "y = df['status_type']\n",
    "X = df"
   ]
  },
  {
   "cell_type": "code",
   "execution_count": 112,
   "id": "612db3c8",
   "metadata": {},
   "outputs": [
    {
     "data": {
      "text/plain": [
       "array([3, 1, 3, ..., 1, 1, 1])"
      ]
     },
     "execution_count": 112,
     "metadata": {},
     "output_type": "execute_result"
    }
   ],
   "source": [
    "# 将分类的变量转换成整数\n",
    "from sklearn.preprocessing import LabelEncoder\n",
    "le = LabelEncoder()\n",
    "X['status_type'] = le.fit_transform(X['status_type'])\n",
    "y = le.transform(y)\n",
    "y"
   ]
  },
  {
   "cell_type": "code",
   "execution_count": 113,
   "id": "61731c3a",
   "metadata": {},
   "outputs": [
    {
     "data": {
      "text/html": [
       "<div>\n",
       "<style scoped>\n",
       "    .dataframe tbody tr th:only-of-type {\n",
       "        vertical-align: middle;\n",
       "    }\n",
       "\n",
       "    .dataframe tbody tr th {\n",
       "        vertical-align: top;\n",
       "    }\n",
       "\n",
       "    .dataframe thead th {\n",
       "        text-align: right;\n",
       "    }\n",
       "</style>\n",
       "<table border=\"1\" class=\"dataframe\">\n",
       "  <thead>\n",
       "    <tr style=\"text-align: right;\">\n",
       "      <th></th>\n",
       "      <th>num_reactions</th>\n",
       "      <th>num_comments</th>\n",
       "      <th>num_shares</th>\n",
       "      <th>num_likes</th>\n",
       "      <th>num_loves</th>\n",
       "      <th>num_wows</th>\n",
       "      <th>num_hahas</th>\n",
       "      <th>num_sads</th>\n",
       "      <th>num_angrys</th>\n",
       "    </tr>\n",
       "  </thead>\n",
       "  <tbody>\n",
       "    <tr>\n",
       "      <th>0</th>\n",
       "      <td>529</td>\n",
       "      <td>512</td>\n",
       "      <td>262</td>\n",
       "      <td>432</td>\n",
       "      <td>92</td>\n",
       "      <td>3</td>\n",
       "      <td>1</td>\n",
       "      <td>1</td>\n",
       "      <td>0</td>\n",
       "    </tr>\n",
       "    <tr>\n",
       "      <th>1</th>\n",
       "      <td>150</td>\n",
       "      <td>0</td>\n",
       "      <td>0</td>\n",
       "      <td>150</td>\n",
       "      <td>0</td>\n",
       "      <td>0</td>\n",
       "      <td>0</td>\n",
       "      <td>0</td>\n",
       "      <td>0</td>\n",
       "    </tr>\n",
       "    <tr>\n",
       "      <th>2</th>\n",
       "      <td>227</td>\n",
       "      <td>236</td>\n",
       "      <td>57</td>\n",
       "      <td>204</td>\n",
       "      <td>21</td>\n",
       "      <td>1</td>\n",
       "      <td>1</td>\n",
       "      <td>0</td>\n",
       "      <td>0</td>\n",
       "    </tr>\n",
       "    <tr>\n",
       "      <th>3</th>\n",
       "      <td>111</td>\n",
       "      <td>0</td>\n",
       "      <td>0</td>\n",
       "      <td>111</td>\n",
       "      <td>0</td>\n",
       "      <td>0</td>\n",
       "      <td>0</td>\n",
       "      <td>0</td>\n",
       "      <td>0</td>\n",
       "    </tr>\n",
       "    <tr>\n",
       "      <th>4</th>\n",
       "      <td>213</td>\n",
       "      <td>0</td>\n",
       "      <td>0</td>\n",
       "      <td>204</td>\n",
       "      <td>9</td>\n",
       "      <td>0</td>\n",
       "      <td>0</td>\n",
       "      <td>0</td>\n",
       "      <td>0</td>\n",
       "    </tr>\n",
       "  </tbody>\n",
       "</table>\n",
       "</div>"
      ],
      "text/plain": [
       "   num_reactions  num_comments  num_shares  num_likes  num_loves  num_wows  \\\n",
       "0            529           512         262        432         92         3   \n",
       "1            150             0           0        150          0         0   \n",
       "2            227           236          57        204         21         1   \n",
       "3            111             0           0        111          0         0   \n",
       "4            213             0           0        204          9         0   \n",
       "\n",
       "   num_hahas  num_sads  num_angrys  \n",
       "0          1         1           0  \n",
       "1          0         0           0  \n",
       "2          1         0           0  \n",
       "3          0         0           0  \n",
       "4          0         0           0  "
      ]
     },
     "execution_count": 113,
     "metadata": {},
     "output_type": "execute_result"
    }
   ],
   "source": [
    "X.drop(['status_type'],axis=1,inplace=True)\n",
    "X.head()"
   ]
  },
  {
   "cell_type": "code",
   "execution_count": 114,
   "id": "0d9653fc",
   "metadata": {},
   "outputs": [
    {
     "name": "stdout",
     "output_type": "stream",
     "text": [
      "Index(['num_reactions', 'num_comments', 'num_shares', 'num_likes', 'num_loves',\n",
      "       'num_wows', 'num_hahas', 'num_sads', 'num_angrys'],\n",
      "      dtype='object')\n"
     ]
    }
   ],
   "source": [
    "# 数据归一化，即将不同量纲的数据统一量纲，方便进行模型构建\n",
    "cols = X.columns\n",
    "print(cols)"
   ]
  },
  {
   "cell_type": "code",
   "execution_count": 115,
   "id": "b4f10e25",
   "metadata": {},
   "outputs": [],
   "source": [
    "# 这里用到sklearn里面的MinMaxScaler进行归一化\n",
    "from sklearn.preprocessing import MinMaxScaler\n",
    "ms = MinMaxScaler()\n",
    "X = ms.fit_transform(X)"
   ]
  },
  {
   "cell_type": "code",
   "execution_count": 116,
   "id": "989c7f88",
   "metadata": {},
   "outputs": [
    {
     "data": {
      "text/plain": [
       "array([[0.11231423, 0.02439257, 0.07651869, ..., 0.00636943, 0.01960784,\n",
       "        0.        ],\n",
       "       [0.03184713, 0.        , 0.        , ..., 0.        , 0.        ,\n",
       "        0.        ],\n",
       "       [0.04819533, 0.01124345, 0.0166472 , ..., 0.00636943, 0.        ,\n",
       "        0.        ],\n",
       "       ...,\n",
       "       [0.00042463, 0.        , 0.        , ..., 0.        , 0.        ,\n",
       "        0.        ],\n",
       "       [0.07452229, 0.0005717 , 0.00642523, ..., 0.        , 0.        ,\n",
       "        0.        ],\n",
       "       [0.00360934, 0.        , 0.        , ..., 0.        , 0.        ,\n",
       "        0.        ]])"
      ]
     },
     "execution_count": 116,
     "metadata": {},
     "output_type": "execute_result"
    }
   ],
   "source": [
    "X\n",
    "# 但是经过fit_transform后得到的是一个ndarray数组，需要重新转换成df格式"
   ]
  },
  {
   "cell_type": "code",
   "execution_count": 117,
   "id": "5f81e86f",
   "metadata": {},
   "outputs": [],
   "source": [
    "X = pd.DataFrame(X, columns=[cols])"
   ]
  },
  {
   "cell_type": "code",
   "execution_count": 118,
   "id": "b6c39059",
   "metadata": {},
   "outputs": [
    {
     "data": {
      "text/html": [
       "<div>\n",
       "<style scoped>\n",
       "    .dataframe tbody tr th:only-of-type {\n",
       "        vertical-align: middle;\n",
       "    }\n",
       "\n",
       "    .dataframe tbody tr th {\n",
       "        vertical-align: top;\n",
       "    }\n",
       "\n",
       "    .dataframe thead tr th {\n",
       "        text-align: left;\n",
       "    }\n",
       "</style>\n",
       "<table border=\"1\" class=\"dataframe\">\n",
       "  <thead>\n",
       "    <tr>\n",
       "      <th></th>\n",
       "      <th>num_reactions</th>\n",
       "      <th>num_comments</th>\n",
       "      <th>num_shares</th>\n",
       "      <th>num_likes</th>\n",
       "      <th>num_loves</th>\n",
       "      <th>num_wows</th>\n",
       "      <th>num_hahas</th>\n",
       "      <th>num_sads</th>\n",
       "      <th>num_angrys</th>\n",
       "    </tr>\n",
       "  </thead>\n",
       "  <tbody>\n",
       "    <tr>\n",
       "      <th>0</th>\n",
       "      <td>0.112314</td>\n",
       "      <td>0.024393</td>\n",
       "      <td>0.076519</td>\n",
       "      <td>0.091720</td>\n",
       "      <td>0.140030</td>\n",
       "      <td>0.010791</td>\n",
       "      <td>0.006369</td>\n",
       "      <td>0.019608</td>\n",
       "      <td>0.0</td>\n",
       "    </tr>\n",
       "    <tr>\n",
       "      <th>1</th>\n",
       "      <td>0.031847</td>\n",
       "      <td>0.000000</td>\n",
       "      <td>0.000000</td>\n",
       "      <td>0.031847</td>\n",
       "      <td>0.000000</td>\n",
       "      <td>0.000000</td>\n",
       "      <td>0.000000</td>\n",
       "      <td>0.000000</td>\n",
       "      <td>0.0</td>\n",
       "    </tr>\n",
       "    <tr>\n",
       "      <th>2</th>\n",
       "      <td>0.048195</td>\n",
       "      <td>0.011243</td>\n",
       "      <td>0.016647</td>\n",
       "      <td>0.043312</td>\n",
       "      <td>0.031963</td>\n",
       "      <td>0.003597</td>\n",
       "      <td>0.006369</td>\n",
       "      <td>0.000000</td>\n",
       "      <td>0.0</td>\n",
       "    </tr>\n",
       "    <tr>\n",
       "      <th>3</th>\n",
       "      <td>0.023567</td>\n",
       "      <td>0.000000</td>\n",
       "      <td>0.000000</td>\n",
       "      <td>0.023567</td>\n",
       "      <td>0.000000</td>\n",
       "      <td>0.000000</td>\n",
       "      <td>0.000000</td>\n",
       "      <td>0.000000</td>\n",
       "      <td>0.0</td>\n",
       "    </tr>\n",
       "    <tr>\n",
       "      <th>4</th>\n",
       "      <td>0.045223</td>\n",
       "      <td>0.000000</td>\n",
       "      <td>0.000000</td>\n",
       "      <td>0.043312</td>\n",
       "      <td>0.013699</td>\n",
       "      <td>0.000000</td>\n",
       "      <td>0.000000</td>\n",
       "      <td>0.000000</td>\n",
       "      <td>0.0</td>\n",
       "    </tr>\n",
       "  </tbody>\n",
       "</table>\n",
       "</div>"
      ],
      "text/plain": [
       "  num_reactions num_comments num_shares num_likes num_loves  num_wows  \\\n",
       "0      0.112314     0.024393   0.076519  0.091720  0.140030  0.010791   \n",
       "1      0.031847     0.000000   0.000000  0.031847  0.000000  0.000000   \n",
       "2      0.048195     0.011243   0.016647  0.043312  0.031963  0.003597   \n",
       "3      0.023567     0.000000   0.000000  0.023567  0.000000  0.000000   \n",
       "4      0.045223     0.000000   0.000000  0.043312  0.013699  0.000000   \n",
       "\n",
       "  num_hahas  num_sads num_angrys  \n",
       "0  0.006369  0.019608        0.0  \n",
       "1  0.000000  0.000000        0.0  \n",
       "2  0.006369  0.000000        0.0  \n",
       "3  0.000000  0.000000        0.0  \n",
       "4  0.000000  0.000000        0.0  "
      ]
     },
     "execution_count": 118,
     "metadata": {},
     "output_type": "execute_result"
    }
   ],
   "source": [
    "X.head()"
   ]
  },
  {
   "cell_type": "markdown",
   "id": "04923741",
   "metadata": {},
   "source": [
    "#### K-means构建\n"
   ]
  },
  {
   "cell_type": "code",
   "execution_count": 144,
   "id": "232abf0f",
   "metadata": {},
   "outputs": [
    {
     "data": {
      "text/html": [
       "<style>#sk-container-id-4 {color: black;background-color: white;}#sk-container-id-4 pre{padding: 0;}#sk-container-id-4 div.sk-toggleable {background-color: white;}#sk-container-id-4 label.sk-toggleable__label {cursor: pointer;display: block;width: 100%;margin-bottom: 0;padding: 0.3em;box-sizing: border-box;text-align: center;}#sk-container-id-4 label.sk-toggleable__label-arrow:before {content: \"▸\";float: left;margin-right: 0.25em;color: #696969;}#sk-container-id-4 label.sk-toggleable__label-arrow:hover:before {color: black;}#sk-container-id-4 div.sk-estimator:hover label.sk-toggleable__label-arrow:before {color: black;}#sk-container-id-4 div.sk-toggleable__content {max-height: 0;max-width: 0;overflow: hidden;text-align: left;background-color: #f0f8ff;}#sk-container-id-4 div.sk-toggleable__content pre {margin: 0.2em;color: black;border-radius: 0.25em;background-color: #f0f8ff;}#sk-container-id-4 input.sk-toggleable__control:checked~div.sk-toggleable__content {max-height: 200px;max-width: 100%;overflow: auto;}#sk-container-id-4 input.sk-toggleable__control:checked~label.sk-toggleable__label-arrow:before {content: \"▾\";}#sk-container-id-4 div.sk-estimator input.sk-toggleable__control:checked~label.sk-toggleable__label {background-color: #d4ebff;}#sk-container-id-4 div.sk-label input.sk-toggleable__control:checked~label.sk-toggleable__label {background-color: #d4ebff;}#sk-container-id-4 input.sk-hidden--visually {border: 0;clip: rect(1px 1px 1px 1px);clip: rect(1px, 1px, 1px, 1px);height: 1px;margin: -1px;overflow: hidden;padding: 0;position: absolute;width: 1px;}#sk-container-id-4 div.sk-estimator {font-family: monospace;background-color: #f0f8ff;border: 1px dotted black;border-radius: 0.25em;box-sizing: border-box;margin-bottom: 0.5em;}#sk-container-id-4 div.sk-estimator:hover {background-color: #d4ebff;}#sk-container-id-4 div.sk-parallel-item::after {content: \"\";width: 100%;border-bottom: 1px solid gray;flex-grow: 1;}#sk-container-id-4 div.sk-label:hover label.sk-toggleable__label {background-color: #d4ebff;}#sk-container-id-4 div.sk-serial::before {content: \"\";position: absolute;border-left: 1px solid gray;box-sizing: border-box;top: 0;bottom: 0;left: 50%;z-index: 0;}#sk-container-id-4 div.sk-serial {display: flex;flex-direction: column;align-items: center;background-color: white;padding-right: 0.2em;padding-left: 0.2em;position: relative;}#sk-container-id-4 div.sk-item {position: relative;z-index: 1;}#sk-container-id-4 div.sk-parallel {display: flex;align-items: stretch;justify-content: center;background-color: white;position: relative;}#sk-container-id-4 div.sk-item::before, #sk-container-id-4 div.sk-parallel-item::before {content: \"\";position: absolute;border-left: 1px solid gray;box-sizing: border-box;top: 0;bottom: 0;left: 50%;z-index: -1;}#sk-container-id-4 div.sk-parallel-item {display: flex;flex-direction: column;z-index: 1;position: relative;background-color: white;}#sk-container-id-4 div.sk-parallel-item:first-child::after {align-self: flex-end;width: 50%;}#sk-container-id-4 div.sk-parallel-item:last-child::after {align-self: flex-start;width: 50%;}#sk-container-id-4 div.sk-parallel-item:only-child::after {width: 0;}#sk-container-id-4 div.sk-dashed-wrapped {border: 1px dashed gray;margin: 0 0.4em 0.5em 0.4em;box-sizing: border-box;padding-bottom: 0.4em;background-color: white;}#sk-container-id-4 div.sk-label label {font-family: monospace;font-weight: bold;display: inline-block;line-height: 1.2em;}#sk-container-id-4 div.sk-label-container {text-align: center;}#sk-container-id-4 div.sk-container {/* jupyter's `normalize.less` sets `[hidden] { display: none; }` but bootstrap.min.css set `[hidden] { display: none !important; }` so we also need the `!important` here to be able to override the default hidden behavior on the sphinx rendered scikit-learn.org. See: https://github.com/scikit-learn/scikit-learn/issues/21755 */display: inline-block !important;position: relative;}#sk-container-id-4 div.sk-text-repr-fallback {display: none;}</style><div id=\"sk-container-id-4\" class=\"sk-top-container\"><div class=\"sk-text-repr-fallback\"><pre>KMeans(n_clusters=4, random_state=0)</pre><b>In a Jupyter environment, please rerun this cell to show the HTML representation or trust the notebook. <br />On GitHub, the HTML representation is unable to render, please try loading this page with nbviewer.org.</b></div><div class=\"sk-container\" hidden><div class=\"sk-item\"><div class=\"sk-estimator sk-toggleable\"><input class=\"sk-toggleable__control sk-hidden--visually\" id=\"sk-estimator-id-4\" type=\"checkbox\" checked><label for=\"sk-estimator-id-4\" class=\"sk-toggleable__label sk-toggleable__label-arrow\">KMeans</label><div class=\"sk-toggleable__content\"><pre>KMeans(n_clusters=4, random_state=0)</pre></div></div></div></div></div>"
      ],
      "text/plain": [
       "KMeans(n_clusters=4, random_state=0)"
      ]
     },
     "execution_count": 144,
     "metadata": {},
     "output_type": "execute_result"
    }
   ],
   "source": [
    "from sklearn.cluster import KMeans\n",
    "\n",
    "kmeans = KMeans(n_clusters=4, random_state=0) \n",
    "\n",
    "kmeans.fit(X)"
   ]
  },
  {
   "cell_type": "code",
   "execution_count": 145,
   "id": "9eb69ac9",
   "metadata": {},
   "outputs": [
    {
     "data": {
      "text/plain": [
       "array([[1.38521326e-02, 1.21457658e-03, 1.57210047e-03, 1.33658963e-02,\n",
       "        2.58353218e-03, 1.15270964e-03, 9.71447030e-04, 1.78849173e-03,\n",
       "        8.62931691e-04],\n",
       "       [4.07716855e-01, 2.99382379e-03, 4.45385514e-03, 4.06490932e-01,\n",
       "        4.74042288e-03, 8.68943399e-03, 1.26621134e-03, 7.67776990e-04,\n",
       "        1.94325690e-04],\n",
       "       [2.71955379e-01, 1.55836503e-01, 2.02174621e-01, 2.11007274e-01,\n",
       "        3.58884148e-01, 1.23953296e-01, 8.04009606e-02, 4.48408872e-02,\n",
       "        6.16076150e-02],\n",
       "       [8.35418844e-02, 4.02401803e-02, 3.94061414e-02, 7.35641660e-02,\n",
       "        6.37437401e-02, 6.99555772e-03, 1.30381588e-02, 1.51140423e-02,\n",
       "        1.11427280e-02]])"
      ]
     },
     "execution_count": 145,
     "metadata": {},
     "output_type": "execute_result"
    }
   ],
   "source": [
    "kmeans.cluster_centers_\n",
    "# 每个聚类中心点的坐标"
   ]
  },
  {
   "cell_type": "markdown",
   "id": "9ede6658",
   "metadata": {},
   "source": [
    "### Inertia\n",
    "聚类中，Inertia（惯性）是衡量聚类质量的一个标准，在前文中的`肘部法则`中提到过\n",
    "\n",
    "它表示聚类结果中样本与其所属聚类中心的距离的总和，或者可以视为簇内平方和\n",
    "\n",
    "具体而言，对于每个聚类，inertia 是该聚类内所有样本与该聚类的中心点之间距离的平方和。而总体的惯性是所有聚类的惯性之和"
   ]
  },
  {
   "cell_type": "code",
   "execution_count": 146,
   "id": "c1b9291c",
   "metadata": {},
   "outputs": [
    {
     "data": {
      "text/plain": [
       "61.88911219125038"
      ]
     },
     "execution_count": 146,
     "metadata": {},
     "output_type": "execute_result"
    }
   ],
   "source": [
    "kmeans.inertia_"
   ]
  },
  {
   "cell_type": "markdown",
   "id": "89eb097f",
   "metadata": {},
   "source": [
    "inertia不是一个归一化的值，但是我们希望其越小越好\n",
    "\n",
    "对于**高维数据集**，很可能得到很大的inertia，这是因为欧氏距离发生了**膨胀**\n",
    "\n",
    "在K均值前，我们可以使用***主成分分析***来缓解这个问题"
   ]
  },
  {
   "cell_type": "code",
   "execution_count": 147,
   "id": "a907956c",
   "metadata": {},
   "outputs": [
    {
     "name": "stdout",
     "output_type": "stream",
     "text": [
      "Result: 1127 out of 7050 samples were correctly labeled.\n"
     ]
    }
   ],
   "source": [
    "labels = kmeans.labels_\n",
    "\n",
    "# check how many of the samples were correctly labeled\n",
    "correct_labels = sum(y == labels)\n",
    "\n",
    "print(\"Result: %d out of %d samples were correctly labeled.\" % (correct_labels, y.size))"
   ]
  },
  {
   "cell_type": "code",
   "execution_count": 148,
   "id": "6aa5473e",
   "metadata": {},
   "outputs": [
    {
     "name": "stdout",
     "output_type": "stream",
     "text": [
      "Accuracy score: 0.16\n"
     ]
    }
   ],
   "source": [
    "print('Accuracy score: {0:0.2f}'. format(correct_labels/float(y.size)))"
   ]
  },
  {
   "cell_type": "code",
   "execution_count": 149,
   "id": "2dc13176",
   "metadata": {},
   "outputs": [
    {
     "data": {
      "image/png": "[encoded data removed]",
      "text/plain": [
       "<Figure size 640x480 with 1 Axes>"
      ]
     },
     "metadata": {},
     "output_type": "display_data"
    }
   ],
   "source": [
    "# 使用肘部法则来得到最佳聚类数\n",
    "from sklearn.cluster import KMeans\n",
    "cs = []\n",
    "for i in range(1, 11):\n",
    "    kmeans = KMeans(n_clusters = i, init = 'k-means++', max_iter = 300, n_init = 10, random_state = 0)\n",
    "    kmeans.fit(X)\n",
    "    cs.append(kmeans.inertia_)\n",
    "plt.plot(range(1, 11), cs)\n",
    "plt.title('The Elbow Method')\n",
    "plt.xlabel('Number of clusters')\n",
    "plt.ylabel('CS')\n",
    "plt.show()"
   ]
  },
  {
   "cell_type": "markdown",
   "id": "3dac763e",
   "metadata": {},
   "source": [
    "按照肘部法则，k=2应该是变化比较明显的点，但是k=2的时候我们得到的正确率属于是一团糟，那么现在再试试轮廓系数"
   ]
  },
  {
   "cell_type": "code",
   "execution_count": 150,
   "id": "c0f13c10",
   "metadata": {},
   "outputs": [
    {
     "data": {
      "image/png": "[encoded data removed]",
      "text/plain": [
       "<Figure size 640x480 with 1 Axes>"
      ]
     },
     "metadata": {},
     "output_type": "display_data"
    }
   ],
   "source": [
    "from sklearn.cluster import KMeans\n",
    "from sklearn.datasets import make_classification\n",
    "from sklearn.metrics import silhouette_score\n",
    "\n",
    "# 计算不同K值下的轮廓系数\n",
    "k_values = range(2, 11)\n",
    "silhouette_scores = []\n",
    "for k in k_values:\n",
    "    model = KMeans(n_clusters=k)\n",
    "    labels = model.fit_predict(X)\n",
    "    silhouette_avg = silhouette_score(X, labels)\n",
    "    silhouette_scores.append(silhouette_avg)\n",
    "\n",
    "    \n",
    "#后面要在plt中绘制中文，因此这里先设置一下中文字体\n",
    "plt.rcParams['font.family'] = 'SimHei'  # 设置中文字体为黑体或其他合适的中文字体\n",
    "plt.rcParams['axes.unicode_minus'] = False  # 解决负号显示为方块的问题\n",
    "\n",
    "# 绘制轮廓系数图\n",
    "plt.plot(k_values, silhouette_scores, marker='o')\n",
    "plt.xlabel('聚类数 (K)')\n",
    "plt.ylabel('轮廓系数')\n",
    "plt.title('轮廓系数与聚类数关系图')\n",
    "plt.show()"
   ]
  },
  {
   "cell_type": "markdown",
   "id": "a16edaf8",
   "metadata": {},
   "source": [
    "### 注意\n",
    "到这里发现作者可能弄错了Kmeans的作用，我们主要是对数据集进行分类，但是原文的作者应该是把数据集中的一个维度直接作为其分类，这样实际上也就限定死了我们的k值，原文其他地方写的都挺好的，只是实际上我们并不知道具体的分类"
   ]
  },
  {
   "cell_type": "markdown",
   "id": "f4b1b954",
   "metadata": {},
   "source": [
    "## 鸢尾花数据集的例子\n"
   ]
  },
  {
   "cell_type": "code",
   "execution_count": 151,
   "id": "3ed24ce6",
   "metadata": {},
   "outputs": [
    {
     "name": "stdout",
     "output_type": "stream",
     "text": [
      ".\\datasets\\iris.csv\n",
      ".\\datasets\\Live.csv\n"
     ]
    }
   ],
   "source": [
    "import os\n",
    "for dirname, _, filenames in os.walk('.\\datasets'):\n",
    "    for filename in filenames:\n",
    "        print(os.path.join(dirname, filename))\n",
    "# 任何在这个工程文件夹的datasets子文件夹中的文件将被输出\n",
    "\n",
    "#忽略警告\n",
    "import warnings\n",
    "warnings.filterwarnings('ignore')"
   ]
  },
  {
   "cell_type": "code",
   "execution_count": 156,
   "id": "a7f48454",
   "metadata": {},
   "outputs": [
    {
     "data": {
      "image/png": "[encoded data removed]",
      "text/plain": [
       "<Figure size 640x480 with 2 Axes>"
      ]
     },
     "metadata": {},
     "output_type": "display_data"
    }
   ],
   "source": [
    "import numpy as np\n",
    "import pandas as pd\n",
    "from sklearn.cluster import KMeans\n",
    "import matplotlib.pyplot as plt\n",
    "\n",
    "# 读取数据\n",
    "a = pd.read_csv(\".\\datasets\\iris.csv\")\n",
    "b = a.iloc[:, :-1]\n",
    "# 选择所有行，选择除最后一列的所有列\n",
    "\n",
    "# 构建和求解模型\n",
    "md = KMeans(3)\n",
    "md.fit(b)\n",
    "labels = md.labels_\n",
    "centers = md.cluster_centers_\n",
    "b['cluster'] = labels\n",
    "# 给b新增一列，索引名叫cluster，值为labels\n",
    "\n",
    "# 统计各类频数\n",
    "c = b.cluster.value_counts()\n",
    "\n",
    "# 配置中文字体\n",
    "plt.rcParams['font.family'] = 'SimHei'\n",
    "\n",
    "# 设置子图1\n",
    "plt.subplot(121)\n",
    "colors = ['red', 'black', 'blue']\n",
    "markers = ['^', '.', '*']\n",
    "for i in range(len(centers)):\n",
    "    plt.scatter(b['Petal_Length'][labels==i], b['Petal_Width'][labels==i], \n",
    "                c=colors[i], marker=markers[i], s=30, label=str(i))\n",
    "plt.legend()\n",
    "plt.xlabel(\"(a) KMeans聚类结果\")\n",
    "\n",
    "# 设置子图2\n",
    "plt.subplot(122)\n",
    "str2 = [u'setosa', u'versicolour', u'virginica']\n",
    "ind = np.hstack([np.zeros(50), np.ones(50), 2*np.ones(50)])\n",
    "for i in range(3):\n",
    "    plt.scatter(b['Petal_Length'][ind==i], b['Petal_Width'][ind==i], \n",
    "                c=colors[i], marker=markers[i], s=30, label=str2[i])\n",
    "plt.legend(loc='lower right')\n",
    "plt.xlabel(\"(b) 原数据的类别\")\n",
    "\n",
    "# 调整图的布局和间距\n",
    "plt.tight_layout()\n",
    "\n",
    "# 显示图\n",
    "plt.show()"
   ]
  }
 ],
 "metadata": {
  "kernelspec": {
   "display_name": "Python 3 (ipykernel)",
   "language": "python",
   "name": "python3"
  },
  "language_info": {
   "codemirror_mode": {
    "name": "ipython",
    "version": 3
   },
   "file_extension": ".py",
   "mimetype": "text/x-python",
   "name": "python",
   "nbconvert_exporter": "python",
   "pygments_lexer": "ipython3",
   "version": "3.10.9"
  }
 },
 "nbformat": 4,
 "nbformat_minor": 5
}
