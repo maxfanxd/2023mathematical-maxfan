{
 "cells": [
  {
   "cell_type": "markdown",
   "id": "4bba6eab",
   "metadata": {},
   "source": [
    "# 数据预处理\n",
    "本篇参考sklearn官方文档：https://scikit-learn.org/stable/\n",
    "\n",
    "注：anaconda的sklearn版本可能要更新到1.3（目前的稳定版本）"
   ]
  },
  {
   "cell_type": "code",
   "execution_count": 1,
   "id": "579a4a2e",
   "metadata": {},
   "outputs": [
    {
     "name": "stdout",
     "output_type": "stream",
     "text": [
      "Sklearn verion is 1.3.0\n"
     ]
    }
   ],
   "source": [
    "import sklearn\n",
    "print(\"Sklearn verion is {}\".format(sklearn.__version__))"
   ]
  },
  {
   "cell_type": "markdown",
   "id": "f6edf51b",
   "metadata": {},
   "source": [
    "# Part1.数据标准化\n",
    "\n",
    "参考：\n",
    "1. https://blog.csdn.net/weixin_46263718/article/details/108352591\n",
    "2. https://blog.csdn.net/Li_yi_chao/article/details/80756414\n",
    "\n",
    "**数据标准化**和**数据归一化**是数据预处理的两种常用方法，它们的目的是将数据转换为更适合模型处理的格式。\n",
    "\n",
    "- 数据标准化(Standardization)是将数据转换为均值为0，方差为1的数据，也就是将数据按比例缩放，使得其分布具有标准正态分布\n",
    "- 数据归一化(Normalization)是将数据转换为满足0≤x≤1的数据，也就是将数据缩放到[0,1]区间。\n",
    "\n",
    "总的来说，数据标准化更多的是针对正态分布的数据，它的目的是使得不同特征的数据有相似的分布；数据归一化则不一定需要正态分布，它的目的是将数据缩放到同一尺度，以便更好地比较不同特征间的差异。\n",
    "\n",
    "## 优点\n",
    "1. 消除量纲\n",
    "2. 让不同指标有可比性\n",
    "3. 提高迭代求解精度\n",
    "4. 提升模型收敛速度\n",
    "\n",
    "## 适用情形\n",
    "根据CSDN用户提供：\n",
    "1. 基于树模型的算法不要做\n",
    "2. 基于平方损失的最小二乘法OLS不需要\n",
    "3. 聚类、分类、回归等设计距离计算的需要标准化\n",
    "\n",
    "## 主要方法\n",
    "\n",
    "### Min-Max标准化/0-1标准化\n",
    "可以提升模型收敛速度，但是没有消除量纲的效果，缺陷是有新数据时，min和max可能变化，也就是当有新数据加入时需要重新进行归一化\n",
    "\n",
    "优点：\n",
    "- 在不涉及距离度量、协方差计算、数据不符合正态分布的时候，适合用Min-max normalization\n",
    "- 对于方差非常小的属性可以增强其稳定性\n",
    "- 维持稀疏矩阵中0的数量\n",
    "\n",
    "### Z-score标准化\n",
    "具有标准化所有的优势，但由于需要估算Z-Score需要总体的平均值与方差，而这一值在真实的分析与挖掘中很难得到，大多数情况下是用样本的均值与标准差替代，所以要求原始数据近似为***高斯分布***，否则归一化的效果会变得很糟糕。在分类、聚类算法中，需要使用距离来度量相似性的时候、或者使用**PCA技术**进行降维的时候，Z-score 表现更好。\n",
    "\n",
    "### 附：归一化（Normalization）\n",
    "\n",
    "\n",
    "## 主要函数\n",
    "\n",
    "- 0-1标准化：https://scikit-learn.org/stable/modules/generated/sklearn.preprocessing.MinMaxScaler.html#sklearn.preprocessing.MinMaxScaler\n",
    "- Z-score标准化：https://scikit-learn.org/stable/modules/generated/sklearn.preprocessing.StandardScaler.html#sklearn.preprocessing.StandardScaler\n",
    "- 归一化：https://scikit-learn.org/stable/modules/generated/sklearn.preprocessing.normalize.html#sklearn.preprocessing.normalize\n",
    "\n",
    "\n",
    "下面是他们的代码实现："
   ]
  },
  {
   "cell_type": "code",
   "execution_count": 5,
   "id": "9fd0a62e",
   "metadata": {},
   "outputs": [
    {
     "data": {
      "text/plain": [
       "array([[ 0.13018891,  0.39056673,  0.91132238],\n",
       "       [ 0.26726124,  0.53452248,  0.80178373],\n",
       "       [-0.04897021, -0.19588084,  0.97940421]])"
      ]
     },
     "execution_count": 5,
     "metadata": {},
     "output_type": "execute_result"
    }
   ],
   "source": [
    "### 归一化 normalize\n",
    "# 该函数默认使用l2正则化\n",
    "from sklearn import preprocessing\n",
    "import numpy as np\n",
    "X = [[1,3,7],\n",
    "    [2,4,6],\n",
    "    [-5,-20,100]]\n",
    "\n",
    "X_normalize = preprocessing.normalize(X, axis=1, norm='l2')\n",
    "X_normalize"
   ]
  },
  {
   "cell_type": "code",
   "execution_count": 2,
   "id": "7b3168e2",
   "metadata": {},
   "outputs": [
    {
     "data": {
      "text/plain": [
       "array([[0.85714286, 0.95833333, 0.0106383 ],\n",
       "       [1.        , 1.        , 0.        ],\n",
       "       [0.        , 0.        , 1.        ]])"
      ]
     },
     "execution_count": 2,
     "metadata": {},
     "output_type": "execute_result"
    }
   ],
   "source": [
    "### 0-1标准化 MinMaxScaler\n",
    "from sklearn import preprocessing\n",
    "import numpy as np\n",
    "X = [[1,3,7],\n",
    "    [2,4,6],\n",
    "    [-5,-20,100]]\n",
    "\n",
    "min_max_scaler = preprocessing.MinMaxScaler()\n",
    "X_MinMax = min_max_scaler.fit_transform(X)\n",
    "X_MinMax"
   ]
  },
  {
   "cell_type": "code",
   "execution_count": 7,
   "id": "e86910eb",
   "metadata": {},
   "outputs": [
    {
     "data": {
      "text/plain": [
       "array([-0.66666667, -4.33333333, 37.66666667])"
      ]
     },
     "execution_count": 7,
     "metadata": {},
     "output_type": "execute_result"
    }
   ],
   "source": [
    "### z-score标准化 StandardScaler\n",
    "# 注意原始数据如果没有呈高斯分布，标准化的数据分布效果就不太行\n",
    "# 在分类、聚类算法中，需要使用距离来度量相似性的时候、或者使用PCA技术进行降维的时候,Z-score Standardization效果更好\n",
    "from sklearn import preprocessing\n",
    "import numpy as np\n",
    "X = [[1,3,7],\n",
    "    [2,4,6],\n",
    "    [-5,-20,100]]\n",
    "\n",
    "scaler = preprocessing.StandardScaler().fit(X)\n",
    "scaler.mean_"
   ]
  },
  {
   "cell_type": "code",
   "execution_count": 8,
   "id": "928dc5c2",
   "metadata": {},
   "outputs": [
    {
     "data": {
      "text/plain": [
       "array([ 3.09120617, 11.0855261 , 44.07821331])"
      ]
     },
     "execution_count": 8,
     "metadata": {},
     "output_type": "execute_result"
    }
   ],
   "source": [
    "scaler.scale_"
   ]
  },
  {
   "cell_type": "code",
   "execution_count": 11,
   "id": "82c3820e",
   "metadata": {},
   "outputs": [
    {
     "data": {
      "text/plain": [
       "array([[ 0.53916387,  0.66152326, -0.69573298],\n",
       "       [ 0.86266219,  0.75173097, -0.71841992],\n",
       "       [-1.40182605, -1.41325423,  1.4141529 ]])"
      ]
     },
     "execution_count": 11,
     "metadata": {},
     "output_type": "execute_result"
    }
   ],
   "source": [
    "X_scaled = scaler.transform(X)\n",
    "X_scaled"
   ]
  },
  {
   "cell_type": "markdown",
   "id": "7f0e2cb1",
   "metadata": {},
   "source": [
    "# Part2.种类特征编码\n",
    "\n",
    "## 整数编码\n",
    "\n",
    "有时候部分信息不一定以数值的形式给出，比如说`男性`和`女性`两种性别，或者居住地来自`美国`、`中国`、`日本`\n",
    "\n",
    "有时候我们可以把这种信息映射到0、1、2、3中，即把一些特征信息映射到(0~特征数-1)这些整数上，我们使用`OrdinalEncoder`\n",
    "\n",
    "https://scikit-learn.org/stable/modules/generated/sklearn.preprocessing.OrdinalEncoder.html#sklearn.preprocessing.OrdinalEncoder"
   ]
  },
  {
   "cell_type": "code",
   "execution_count": 12,
   "id": "b5d860af",
   "metadata": {},
   "outputs": [
    {
     "data": {
      "text/plain": [
       "array([[0., 1., 1.]])"
      ]
     },
     "execution_count": 12,
     "metadata": {},
     "output_type": "execute_result"
    }
   ],
   "source": [
    "### OrdinalEncoder示例\n",
    "enc = preprocessing.OrdinalEncoder()\n",
    "X = [['male', 'from US', 'uses Safari'], ['female', 'from Europe', 'uses Firefox']b]\n",
    "enc.fit(X)\n",
    "enc.transform([['female', 'from US', 'uses Safari']])"
   ]
  },
  {
   "cell_type": "code",
   "execution_count": 14,
   "id": "d898c543",
   "metadata": {},
   "outputs": [
    {
     "data": {
      "text/plain": [
       "array([[ 1.],\n",
       "       [ 0.],\n",
       "       [nan],\n",
       "       [ 0.]])"
      ]
     },
     "execution_count": 14,
     "metadata": {},
     "output_type": "execute_result"
    }
   ],
   "source": [
    "### 该函数也能处理缺失值，对应的是缺失值nan\n",
    "enc = preprocessing.OrdinalEncoder()\n",
    "X = [['male'], ['female'], [np.nan], ['female']]\n",
    "enc.fit_transform(X)"
   ]
  },
  {
   "cell_type": "code",
   "execution_count": 15,
   "id": "cb2c8b0e",
   "metadata": {},
   "outputs": [
    {
     "data": {
      "text/plain": [
       "array([[ 1.],\n",
       "       [ 0.],\n",
       "       [-1.],\n",
       "       [ 0.]])"
      ]
     },
     "execution_count": 15,
     "metadata": {},
     "output_type": "execute_result"
    }
   ],
   "source": [
    "### 通过设置参数encoded_missing_value=1可以将缺失值映射为-1\n",
    "enc = preprocessing.OrdinalEncoder(encoded_missing_value=-1)\n",
    "X = [['male'], ['female'], [np.nan], ['female']]\n",
    "enc.fit_transform(X)"
   ]
  },
  {
   "cell_type": "markdown",
   "id": "92838204",
   "metadata": {},
   "source": [
    "## 独热码OneHotEncoder\n",
    "常见于机器学习的各种算法，看这篇就够了：https://blog.csdn.net/qq_52852138/article/details/123931180\n",
    "\n",
    "示例："
   ]
  },
  {
   "cell_type": "code",
   "execution_count": 18,
   "id": "c81db36f",
   "metadata": {},
   "outputs": [
    {
     "name": "stdout",
     "output_type": "stream",
     "text": [
      "[[0. 0. 1. 0. 1. 0. 0. 0. 1. 1. 0.]]\n"
     ]
    }
   ],
   "source": [
    "from sklearn.preprocessing import OneHotEncoder\n",
    "encoder = OneHotEncoder()\n",
    "encoder.fit([\n",
    "    [0,2,1,12],\n",
    "    [2,3,5,3],\n",
    "    [1,3,2,12],\n",
    "    [1,2,4,3]\n",
    "])\n",
    "encoded_vector = encoder.transform([[2,3,5,3]]).toarray()\n",
    "print(encoded_vector)"
   ]
  },
  {
   "cell_type": "code",
   "execution_count": 20,
   "id": "110195e0",
   "metadata": {},
   "outputs": [
    {
     "name": "stdout",
     "output_type": "stream",
     "text": [
      "[array([0, 1, 2]), array([2, 3]), array([1, 2, 4, 5]), array([ 3, 12])]\n"
     ]
    }
   ],
   "source": [
    "### 通过查看encoder的categories属性来确定每个category的feature值\n",
    "print(encoder.categories_)"
   ]
  },
  {
   "cell_type": "code",
   "execution_count": 22,
   "id": "238102ba",
   "metadata": {},
   "outputs": [
    {
     "name": "stdout",
     "output_type": "stream",
     "text": [
      "[[0. 0. 1. 0. 1. 0. 0. 0. 0. 1. 1. 0.]]\n",
      "[array([0.1, 1. , 2. ]), array([2. , 3. , 3.5]), array([1., 2., 4., 5.]), array([ 3., 12.])]\n"
     ]
    }
   ],
   "source": [
    "### 小数编码同理\n",
    "\n",
    "from sklearn.preprocessing import OneHotEncoder\n",
    "encoder = OneHotEncoder()\n",
    "encoder.fit([\n",
    "    [0.1,2,1,12],\n",
    "    [2,3.5,5,3],\n",
    "    [1,3,2,12],\n",
    "    [1,2,4,3]\n",
    "])\n",
    "encoded_vector = encoder.transform([[2,3,5,3]]).toarray()\n",
    "print(encoded_vector)\n",
    "print(encoder.categories_)"
   ]
  },
  {
   "cell_type": "code",
   "execution_count": 24,
   "id": "71f4c821",
   "metadata": {},
   "outputs": [
    {
     "name": "stdout",
     "output_type": "stream",
     "text": [
      "[[1. 0. 0. 1. 0. 0. 0. 0. 1.]]\n",
      "[array(['体育', '娱乐', '电竞'], dtype=object), array(['中国', '日本', '美国'], dtype=object), array(['高一', '高三', '高二'], dtype=object)]\n"
     ]
    }
   ],
   "source": [
    "### 字符串编码同理\n",
    "\n",
    "from sklearn.preprocessing import OneHotEncoder\n",
    "encoder = OneHotEncoder()\n",
    "encoder.fit([\n",
    "    ['体育','中国','高三'],\n",
    "    ['电竞','中国','高一'],\n",
    "    ['体育','日本','高二'],\n",
    "    ['娱乐','美国','高一']\n",
    "])\n",
    "encoded_vector = encoder.transform([['体育','中国','高二']]).toarray()\n",
    "print(encoded_vector)\n",
    "print(encoder.categories_)"
   ]
  },
  {
   "cell_type": "code",
   "execution_count": 26,
   "id": "c35a4d19",
   "metadata": {},
   "outputs": [
    {
     "name": "stdout",
     "output_type": "stream",
     "text": [
      "[[0. 0. 0. 0. 0. 0. 0. 0. 0.]]\n"
     ]
    }
   ],
   "source": [
    "### 设置参数handle_unknown='ignore'\n",
    "### 可以忽略新出现的类型，会令该列的独热码均为0\n",
    "### 字符串编码同理\n",
    "### 如果没有设置则会报错\n",
    "\n",
    "from sklearn.preprocessing import OneHotEncoder\n",
    "encoder = OneHotEncoder(handle_unknown='ignore')\n",
    "encoder.fit([\n",
    "    ['体育','中国','高三'],\n",
    "    ['电竞','中国','高一'],\n",
    "    ['体育','日本','高二'],\n",
    "    ['娱乐','美国','高一']\n",
    "])\n",
    "encoded_vector = encoder.transform([['唉','卧槽','高四']]).toarray()\n",
    "print(encoded_vector)"
   ]
  },
  {
   "cell_type": "code",
   "execution_count": 37,
   "id": "4afe04cf",
   "metadata": {},
   "outputs": [
    {
     "name": "stdout",
     "output_type": "stream",
     "text": [
      "[[None None None]]\n",
      "[['娱乐' '日本' '高一']]\n",
      "[[None None '高三']]\n"
     ]
    }
   ],
   "source": [
    "### 解码，反向transform，同理如果不设置handle_unknown='ignore'参数时，遇到未知类型会直接报错\n",
    "### 下面的示例是设置了ignore参数的情况\n",
    "\n",
    "from sklearn.preprocessing import OneHotEncoder\n",
    "encoder = OneHotEncoder(handle_unknown='ignore')\n",
    "encoder.fit([\n",
    "    ['体育','中国','高三'],\n",
    "    ['电竞','中国','高一'],\n",
    "    ['体育','日本','高二'],\n",
    "    ['娱乐','美国','高一']\n",
    "])\n",
    "decode = encoder.inverse_transform([[0,0,0,0,0,0,0,0,0]])\n",
    "print(decode)\n",
    "\n",
    "decode = encoder.inverse_transform([[0,1,0,0,1,0,1,0,0]])\n",
    "print(decode)\n",
    "\n",
    "encoded_vector = encoder.transform([['唉','卧槽','高三']]).toarray()\n",
    "# 没遇到的feature解释为None\n",
    "decode = encoder.inverse_transform(encoded_vector)\n",
    "print(decode)"
   ]
  },
  {
   "cell_type": "markdown",
   "id": "fabed783",
   "metadata": {},
   "source": [
    "# Part3.生成多项式特征\n",
    "部分机器学习的算法可能要用上，即对于特征X1,X2，我们通过构造多项式1，X1，X2，X1^2，X1X2，X2^2来作为新的特征列，可以增加模型的复杂性，总的来说有两种方式：\n",
    "- 纯多项式\n",
    "- 分段多项式\n",
    "\n",
    "## 纯多项式"
   ]
  },
  {
   "cell_type": "code",
   "execution_count": 38,
   "id": "999889f9",
   "metadata": {},
   "outputs": [
    {
     "data": {
      "text/plain": [
       "array([[ 1.,  0.,  1.,  0.,  0.,  1.],\n",
       "       [ 1.,  2.,  3.,  4.,  6.,  9.],\n",
       "       [ 1.,  4.,  5., 16., 20., 25.]])"
      ]
     },
     "execution_count": 38,
     "metadata": {},
     "output_type": "execute_result"
    }
   ],
   "source": [
    "### 从X1,X2变出了6个新特征\n",
    "import numpy as np\n",
    "from sklearn.preprocessing import PolynomialFeatures\n",
    "X = np.arange(6).reshape(3, 2)\n",
    "X\n",
    "poly = PolynomialFeatures(2)\n",
    "poly.fit_transform(X)"
   ]
  },
  {
   "cell_type": "code",
   "execution_count": 39,
   "id": "3d9ebda6",
   "metadata": {},
   "outputs": [
    {
     "data": {
      "text/plain": [
       "array([[  1.,   0.,   1.,   2.,   0.,   0.,   2.,   0.],\n",
       "       [  1.,   3.,   4.,   5.,  12.,  15.,  20.,  60.],\n",
       "       [  1.,   6.,   7.,   8.,  42.,  48.,  56., 336.]])"
      ]
     },
     "execution_count": 39,
     "metadata": {},
     "output_type": "execute_result"
    }
   ],
   "source": [
    "### 通过设置参数interaction_only=True，只保留交互项\n",
    "### 比如(X1,X2,X3)就变成了(1,X1,X2,X3,X1X2,X2X3,X1X3,X1X2X3)\n",
    "X = np.arange(9).reshape(3, 3)\n",
    "X\n",
    "poly = PolynomialFeatures(degree=3, interaction_only=True)\n",
    "poly.fit_transform(X)"
   ]
  },
  {
   "cell_type": "markdown",
   "id": "973ffc75",
   "metadata": {},
   "source": [
    "## 分段多项式\n",
    "略，遇到用到的算法再补上"
   ]
  },
  {
   "cell_type": "markdown",
   "id": "11d69f51",
   "metadata": {},
   "source": [
    "# Part4.缺失值填充\n",
    "通常我们得到的数据集不一定是完整的数据集，可能会有缺失值，有一种基本的策略就是丢掉整列特征值，但是这样做会丢失部分有用的信息，因此我们可以使用特征值填补的方式，即从数据集的已知部分来推断他们，比如说，用平均值来进行填补\n",
    "\n",
    "\n",
    "\n",
    "## 1. 单元特征值填补\n",
    "通过使用`SimpleImputer`可以将缺失值用提供的常量值进行替代，比如缺失值所在列的统计数据（平均数、中位数或众数）\n",
    "\n",
    "可选参数：\n",
    "- missing_values：定义缺失值，比如这里使用的是`np.nan`，即把数据列中的`np.nan`看做缺失值，如果你愿意设置为1，那么他会把1看作缺失值\n",
    "- strategy：缺失值填补策略，这里使用的是`mean`，即用平均值填补"
   ]
  },
  {
   "cell_type": "code",
   "execution_count": 40,
   "id": "c156b5fe",
   "metadata": {},
   "outputs": [
    {
     "name": "stdout",
     "output_type": "stream",
     "text": [
      "[[4.         2.        ]\n",
      " [6.         3.66666667]\n",
      " [7.         6.        ]]\n"
     ]
    }
   ],
   "source": [
    "import numpy as np\n",
    "from sklearn.impute import SimpleImputer\n",
    "imp = SimpleImputer(missing_values=np.nan, strategy='mean')\n",
    "imp.fit([[1, 2], [np.nan, 3], [7, 6]])\n",
    "X = [[np.nan, 2], [6, np.nan], [7, 6]]\n",
    "print(imp.transform(X))"
   ]
  },
  {
   "cell_type": "markdown",
   "id": "c624a12d",
   "metadata": {},
   "source": [
    "> 注意，此格式并不意味着用于隐式存储矩阵中的缺失值，因为它会在变换时使其变得稠密。 由 0 编码的缺失值必须与密集输入一起使用。\n",
    "\n",
    "上面这段是手册原话，没看太懂"
   ]
  },
  {
   "cell_type": "code",
   "execution_count": 46,
   "id": "1ec5e832",
   "metadata": {},
   "outputs": [
    {
     "name": "stdout",
     "output_type": "stream",
     "text": [
      "[['a' 'x']\n",
      " ['a' 'y']\n",
      " ['a' 'y']\n",
      " ['b' 'y']]\n"
     ]
    }
   ],
   "source": [
    "### 当填补策略是most_frequent或constant时，SimpleImputer还可以支持string或pandas的categoricals类型值\n",
    "\n",
    "import pandas as pd\n",
    "df = pd.DataFrame([[\"a\", \"x\"],[np.nan,'y'],['a',np.nan],['b','y']],dtype='category')\n",
    "imp = SimpleImputer(strategy=\"most_frequent\")\n",
    "print(imp.fit_transform(df))"
   ]
  },
  {
   "cell_type": "code",
   "execution_count": 49,
   "id": "8ba2e2bf",
   "metadata": {},
   "outputs": [
    {
     "data": {
      "text/plain": [
       "array([[0., 1.],\n",
       "       [0., 2.],\n",
       "       [0., 3.]])"
      ]
     },
     "execution_count": 49,
     "metadata": {},
     "output_type": "execute_result"
    }
   ],
   "source": [
    "### 某一特征列的数据全缺失时，SimpleImputer会自动删去这一列，但是可以通过设置参数来保留这一列\n",
    "### 大部分情况下，全缺失的数据列的数据会被替换成0\n",
    "\n",
    "#忽略警告\n",
    "import warnings\n",
    "warnings.filterwarnings('ignore')\n",
    "\n",
    "## 删除的情况\n",
    "imputer = SimpleImputer()\n",
    "X = np.array([[np.nan, 1], [np.nan, 2], [np.nan, 3]])\n",
    "imputer.fit_transform(X)\n",
    "\n",
    "## 不删除的情况\n",
    "imputer.set_params(keep_empty_features=True)\n",
    "imputer.fit_transform(X)"
   ]
  },
  {
   "cell_type": "markdown",
   "id": "efb463dc",
   "metadata": {},
   "source": [
    "## 2. 多元特征值插补\n",
    "通过`IterativeImputer`实现，其将每个具有缺失值的特征建模为其他特征的函数，并用该估计进行填补，用迭代的方式对每个特征进行填补，插补轮次的大小是`max_iter`\n"
   ]
  },
  {
   "cell_type": "code",
   "execution_count": 52,
   "id": "615f207e",
   "metadata": {},
   "outputs": [
    {
     "name": "stdout",
     "output_type": "stream",
     "text": [
      "[[ 1.  2.]\n",
      " [ 6. 12.]\n",
      " [ 3.  6.]]\n"
     ]
    }
   ],
   "source": [
    "import numpy as np\n",
    "from sklearn.experimental import enable_iterative_imputer\n",
    "from sklearn.impute import IterativeImputer\n",
    "imp = IterativeImputer(max_iter=10, random_state=0)\n",
    "imp.fit([[1, 2], [3, 6], [4, 8], [np.nan, 3], [7, np.nan]])\n",
    "X_test = [[np.nan, 2], [6, np.nan], [np.nan, 6]]\n",
    "\n",
    "# 模型学习到，第二个特征值是第一个特征值的两倍，按照这个规律进行填补\n",
    "print(np.round(imp.transform(X_test)))"
   ]
  },
  {
   "cell_type": "markdown",
   "id": "0e81ef4e",
   "metadata": {},
   "source": [
    "### 多元vs.单元\n",
    "统计学中常用的方式是多元特征值插补\n",
    "\n",
    "当用户对测量由于缺失值而导致的不确定性不感兴趣时，单次插补与多重插补在预测和分类中的有用性仍然是一个悬而未决的问题\n",
    "\n",
    "> 注意，调用 IterativeImputer 的转换方法不允许更改样本数。 因此，多重插补不能通过一次调用transform来实现\n",
    "\n"
   ]
  },
  {
   "cell_type": "markdown",
   "id": "af4f472a",
   "metadata": {},
   "source": [
    "## 3. 最近邻插补\n",
    "即用其他特征值上的“邻居”来进行填补"
   ]
  },
  {
   "cell_type": "code",
   "execution_count": 53,
   "id": "3297cd4c",
   "metadata": {},
   "outputs": [
    {
     "data": {
      "text/plain": [
       "array([[1. , 2. , 4. ],\n",
       "       [3. , 4. , 3. ],\n",
       "       [5.5, 6. , 5. ],\n",
       "       [8. , 8. , 7. ]])"
      ]
     },
     "execution_count": 53,
     "metadata": {},
     "output_type": "execute_result"
    }
   ],
   "source": [
    "import numpy as np\n",
    "from sklearn.impute import KNNImputer\n",
    "nan = np.nan\n",
    "X = [[1, 2, nan], [3, 4, 3], [nan, 6, 5], [8, 8, 7]]\n",
    "imputer = KNNImputer(n_neighbors=2, weights=\"uniform\")\n",
    "imputer.fit_transform(X)"
   ]
  },
  {
   "cell_type": "markdown",
   "id": "4ea0ec22",
   "metadata": {},
   "source": [
    "## 4. 聚类插补\n",
    "即可以通过先聚类（用完整的数据列），然后用该类的平均值进行插补，这个实践中遇到过一次，具体实现此处略"
   ]
  },
  {
   "cell_type": "markdown",
   "id": "8e8fe90f",
   "metadata": {},
   "source": [
    "## 5. 缺失值信息的保存\n",
    "`MissingIndicator`可以将数据集转为对应的二进制矩阵，来指示数据集中是否有缺失值。\n",
    "\n",
    "上面的部分插补函数有一个布尔参数`add_indicator`（默认为False），当设置为True时，它可以起到类似`MissingIndicator`的效果\n"
   ]
  },
  {
   "cell_type": "code",
   "execution_count": 57,
   "id": "94a9fad6",
   "metadata": {},
   "outputs": [
    {
     "data": {
      "text/plain": [
       "array([[ True,  True, False],\n",
       "       [False,  True,  True],\n",
       "       [False,  True, False]])"
      ]
     },
     "execution_count": 57,
     "metadata": {},
     "output_type": "execute_result"
    }
   ],
   "source": [
    "from sklearn.impute import MissingIndicator\n",
    "X = np.array([[-1, -1, 1, 3],[4,-1,0,-1],[8,-1,1,0]])\n",
    "indicator = MissingIndicator(missing_values=-1)\n",
    "mask_missing_values_only = indicator.fit_transform(X)\n",
    "mask_missing_values_only"
   ]
  },
  {
   "cell_type": "code",
   "execution_count": 59,
   "id": "29909a9c",
   "metadata": {},
   "outputs": [
    {
     "data": {
      "text/plain": [
       "array([[ True,  True, False, False],\n",
       "       [False,  True, False,  True],\n",
       "       [False,  True, False, False]])"
      ]
     },
     "execution_count": 59,
     "metadata": {},
     "output_type": "execute_result"
    }
   ],
   "source": [
    "### 注意到上面经过筛选后，删除了全为缺失值的列，可以通过加参数features='all'来避免删除这些特征列\n",
    "indicator = MissingIndicator(missing_values=-1, features=\"all\")\n",
    "mask_all = indicator.fit_transform(X)\n",
    "mask_all"
   ]
  },
  {
   "cell_type": "code",
   "execution_count": 60,
   "id": "ddc3175d",
   "metadata": {},
   "outputs": [
    {
     "data": {
      "text/plain": [
       "array([0, 1, 2, 3])"
      ]
     },
     "execution_count": 60,
     "metadata": {},
     "output_type": "execute_result"
    }
   ],
   "source": [
    "indicator.features_"
   ]
  },
  {
   "cell_type": "markdown",
   "id": "5d6d9f24",
   "metadata": {},
   "source": [
    "## 6. 附录：sklearn中不需要对缺失值进行预处理的estimator\n",
    "<img src=\".\\datasets\\Esti_without_nan.png\" alt=\"Cat\" width=\"1000\" height=\"800\">"
   ]
  }
 ],
 "metadata": {
  "kernelspec": {
   "display_name": "Python 3 (ipykernel)",
   "language": "python",
   "name": "python3"
  },
  "language_info": {
   "codemirror_mode": {
    "name": "ipython",
    "version": 3
   },
   "file_extension": ".py",
   "mimetype": "text/x-python",
   "name": "python",
   "nbconvert_exporter": "python",
   "pygments_lexer": "ipython3",
   "version": "3.10.9"
  }
 },
 "nbformat": 4,
 "nbformat_minor": 5
}
