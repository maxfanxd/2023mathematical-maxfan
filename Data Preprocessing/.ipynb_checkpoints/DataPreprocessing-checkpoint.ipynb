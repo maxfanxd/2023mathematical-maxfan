{
 "cells": [
  {
   "cell_type": "markdown",
   "id": "4bba6eab",
   "metadata": {},
   "source": [
    "# 数据预处理\n",
    "本篇参考sklearn官方文档：https://scikit-learn.org/stable/\n",
    "\n",
    "注：anaconda的sklearn版本可能要更新到1.3（目前的稳定版本）"
   ]
  },
  {
   "cell_type": "code",
   "execution_count": 1,
   "id": "579a4a2e",
   "metadata": {},
   "outputs": [
    {
     "name": "stdout",
     "output_type": "stream",
     "text": [
      "Sklearn verion is 1.2.2\n"
     ]
    }
   ],
   "source": [
    "import sklearn\n",
    "print(\"Sklearn verion is {}\".format(sklearn.__version__))"
   ]
  }
 ],
 "metadata": {
  "kernelspec": {
   "display_name": "Python 3 (ipykernel)",
   "language": "python",
   "name": "python3"
  },
  "language_info": {
   "codemirror_mode": {
    "name": "ipython",
    "version": 3
   },
   "file_extension": ".py",
   "mimetype": "text/x-python",
   "name": "python",
   "nbconvert_exporter": "python",
   "pygments_lexer": "ipython3",
   "version": "3.11.3"
  }
 },
 "nbformat": 4,
 "nbformat_minor": 5
}
